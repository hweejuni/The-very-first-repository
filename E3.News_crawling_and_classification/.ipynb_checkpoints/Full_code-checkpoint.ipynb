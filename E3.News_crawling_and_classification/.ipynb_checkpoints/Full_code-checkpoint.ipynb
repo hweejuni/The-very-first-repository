{
 "cells": [
  {
   "cell_type": "code",
   "execution_count": null,
   "metadata": {},
   "outputs": [],
   "source": [
    "import requests\n",
    "import pandas as pd\n",
    "import os\n",
    "from bs4 import BeautifulSoup\n",
    "from newspaper import Article\n",
    "from konlpy.tag import Hannanum,Kkma,Komoran,Mecab,Okt\n",
    "from sklearn.model_selection import train_test_split\n",
    "from sklearn.feature_extraction.text import CountVectorizer\n",
    "from sklearn.feature_extraction.text import TfidfTransformer\n",
    "from sklearn.naive_bayes import MultinomialNB\n",
    "from sklearn import metrics"
   ]
  },
  {
   "cell_type": "code",
   "execution_count": 20,
   "metadata": {},
   "outputs": [],
   "source": [
    "# Takes page number, category, and date as input. \n",
    "\n",
    "def make_urllist(page_num, code, date): \n",
    "  urllist= []\n",
    "  for i in range(1, page_num + 1):\n",
    "    url = 'https://news.naver.com/main/list.nhn?mode=LSD&mid=sec&sid1='+str(code)+'&date='+str(date)+'&page='+str(i)   \n",
    "    news = requests.get(url)\n",
    "\n",
    "    # Create BeautifulSoup instance with html.parser.\n",
    "    soup = BeautifulSoup(news.content, 'html.parser')\n",
    "\n",
    "    # CASE 1\n",
    "    news_list = soup.select('.newsflash_body .type06_headline li dl')\n",
    "    # CASE 2\n",
    "    news_list.extend(soup.select('.newsflash_body .type06 li dl'))\n",
    "        \n",
    "    # Retrieve address from <a href ='address'> \n",
    "    for line in news_list:\n",
    "        urllist.append(line.a.get('href'))\n",
    "  return urllist"
   ]
  },
  {
   "cell_type": "code",
   "execution_count": 21,
   "metadata": {
    "scrolled": true
   },
   "outputs": [
    {
     "name": "stdout",
     "output_type": "stream",
     "text": [
      "Number of news:  60\n"
     ]
    }
   ],
   "source": [
    "url_list = make_urllist(3, 105, 20200802)\n",
    "print('Number of news: ',len(url_list))"
   ]
  },
  {
   "cell_type": "code",
   "execution_count": 22,
   "metadata": {},
   "outputs": [],
   "source": [
    "idx2word = {'101' : 'Economics', '102' : 'Society', '103' : 'Lifestyle/Culture', '105' : 'IT/Science'}"
   ]
  },
  {
   "cell_type": "code",
   "execution_count": 25,
   "metadata": {},
   "outputs": [],
   "source": [
    "from newspaper import Article\n",
    "\n",
    "# This is a function that generates dataframe.\n",
    "def make_data(urllist, code):\n",
    "  text_list = []\n",
    "  for url in urllist:\n",
    "    article = Article(url, language='ko')\n",
    "    article.download()\n",
    "    article.parse()\n",
    "    text_list.append(article.text)\n",
    "\n",
    "  #- Set values to the text under the key 'news' in the dataframe.\n",
    "  df = pd.DataFrame({'news': text_list})\n",
    "\n",
    "  #- Put category names under the key 'code' in the dataframe.\n",
    "  df['code'] = idx2word[str(code)]\n",
    "  return df"
   ]
  },
  {
   "cell_type": "code",
   "execution_count": 26,
   "metadata": {},
   "outputs": [
    {
     "data": {
      "text/html": [
       "<div>\n",
       "<style scoped>\n",
       "    .dataframe tbody tr th:only-of-type {\n",
       "        vertical-align: middle;\n",
       "    }\n",
       "\n",
       "    .dataframe tbody tr th {\n",
       "        vertical-align: top;\n",
       "    }\n",
       "\n",
       "    .dataframe thead th {\n",
       "        text-align: right;\n",
       "    }\n",
       "</style>\n",
       "<table border=\"1\" class=\"dataframe\">\n",
       "  <thead>\n",
       "    <tr style=\"text-align: right;\">\n",
       "      <th></th>\n",
       "      <th>news</th>\n",
       "      <th>code</th>\n",
       "    </tr>\n",
       "  </thead>\n",
       "  <tbody>\n",
       "    <tr>\n",
       "      <th>0</th>\n",
       "      <td>\\n\\n8월초, 본격적인 여름 휴가철이 시작됐지만 중부지방을 중심으로 수해 피해가 ...</td>\n",
       "      <td>IT/Science</td>\n",
       "    </tr>\n",
       "    <tr>\n",
       "      <th>1</th>\n",
       "      <td>정세균 국무총리와 조명래 환경부 장관이 2일 오후 서울 동작구 한강홍수통제소 상황실...</td>\n",
       "      <td>IT/Science</td>\n",
       "    </tr>\n",
       "    <tr>\n",
       "      <th>2</th>\n",
       "      <td>삼성SDS\\n\\n(지디넷코리아=남혁우 기자)삼성SDS(대표 홍원표)와 NHN(대표 ...</td>\n",
       "      <td>IT/Science</td>\n",
       "    </tr>\n",
       "    <tr>\n",
       "      <th>3</th>\n",
       "      <td>[경향신문]SK텔레콤의 외국인 직원들이 서울 명동 T월드 매장 앞에서 SK텔레콤이 ...</td>\n",
       "      <td>IT/Science</td>\n",
       "    </tr>\n",
       "    <tr>\n",
       "      <th>4</th>\n",
       "      <td>[한국경제TV 이영호 기자]\\n\\n미국의 정보통신(IT) 기업 애플이 세계에서 가장...</td>\n",
       "      <td>IT/Science</td>\n",
       "    </tr>\n",
       "    <tr>\n",
       "      <th>5</th>\n",
       "      <td>민간우주기업 버진 갤럭틱이 공개한 ‘우주여객기’ 내부 이미지. 민간우주기업 버진 갤...</td>\n",
       "      <td>IT/Science</td>\n",
       "    </tr>\n",
       "    <tr>\n",
       "      <th>6</th>\n",
       "      <td>[경향신문]코로나19 확산으로 인한 ‘사회적 거리두기’에 돌입한 지도 반년이 됐다....</td>\n",
       "      <td>IT/Science</td>\n",
       "    </tr>\n",
       "    <tr>\n",
       "      <th>7</th>\n",
       "      <td>미국항공우주국(NASA)의 화성 지상탐사용 로버 ‘퍼서비어런스’ 활동모습 상상도. ...</td>\n",
       "      <td>IT/Science</td>\n",
       "    </tr>\n",
       "    <tr>\n",
       "      <th>8</th>\n",
       "      <td>/사진=과학기술정보통신부 /사진=과학기술정보통신부\\n\\n과학기술정보통신부(이하 과기...</td>\n",
       "      <td>IT/Science</td>\n",
       "    </tr>\n",
       "    <tr>\n",
       "      <th>9</th>\n",
       "      <td>/사진=우정사업본부 페이스북 갈무리 /사진=우정사업본부 페이스북 갈무리\\n\\n우체국...</td>\n",
       "      <td>IT/Science</td>\n",
       "    </tr>\n",
       "  </tbody>\n",
       "</table>\n",
       "</div>"
      ],
      "text/plain": [
       "                                                news        code\n",
       "0  \\n\\n8월초, 본격적인 여름 휴가철이 시작됐지만 중부지방을 중심으로 수해 피해가 ...  IT/Science\n",
       "1  정세균 국무총리와 조명래 환경부 장관이 2일 오후 서울 동작구 한강홍수통제소 상황실...  IT/Science\n",
       "2  삼성SDS\\n\\n(지디넷코리아=남혁우 기자)삼성SDS(대표 홍원표)와 NHN(대표 ...  IT/Science\n",
       "3  [경향신문]SK텔레콤의 외국인 직원들이 서울 명동 T월드 매장 앞에서 SK텔레콤이 ...  IT/Science\n",
       "4  [한국경제TV 이영호 기자]\\n\\n미국의 정보통신(IT) 기업 애플이 세계에서 가장...  IT/Science\n",
       "5  민간우주기업 버진 갤럭틱이 공개한 ‘우주여객기’ 내부 이미지. 민간우주기업 버진 갤...  IT/Science\n",
       "6  [경향신문]코로나19 확산으로 인한 ‘사회적 거리두기’에 돌입한 지도 반년이 됐다....  IT/Science\n",
       "7  미국항공우주국(NASA)의 화성 지상탐사용 로버 ‘퍼서비어런스’ 활동모습 상상도. ...  IT/Science\n",
       "8  /사진=과학기술정보통신부 /사진=과학기술정보통신부\\n\\n과학기술정보통신부(이하 과기...  IT/Science\n",
       "9  /사진=우정사업본부 페이스북 갈무리 /사진=우정사업본부 페이스북 갈무리\\n\\n우체국...  IT/Science"
      ]
     },
     "execution_count": 26,
     "metadata": {},
     "output_type": "execute_result"
    }
   ],
   "source": [
    "data = make_data(url_list, 105)\n",
    "data[:10]"
   ]
  },
  {
   "cell_type": "code",
   "execution_count": 27,
   "metadata": {},
   "outputs": [],
   "source": [
    "code_list = [102, 103, 105]"
   ]
  },
  {
   "cell_type": "code",
   "execution_count": 28,
   "metadata": {},
   "outputs": [],
   "source": [
    "def make_total_data(page_num, code_list, date):\n",
    "  df = None\n",
    "\n",
    "  for code in code_list:\n",
    "    url_list = make_urllist(page_num, code, date)\n",
    "    df_temp = make_data(url_list, code)\n",
    "    print('Code '+str(code)+' is processed to data')\n",
    "\n",
    "    if df is not None:\n",
    "      df = pd.concat([df, df_temp])\n",
    "    else:\n",
    "      df = df_temp\n",
    "\n",
    "  return df"
   ]
  },
  {
   "cell_type": "code",
   "execution_count": 29,
   "metadata": {},
   "outputs": [
    {
     "name": "stdout",
     "output_type": "stream",
     "text": [
      "Code 102 is processed to data\n",
      "Code 103 is processed to data\n",
      "Code 105 is processed to data\n"
     ]
    }
   ],
   "source": [
    "df = make_total_data(1, code_list, 20200802) # 20 news per page, so 60 news in total."
   ]
  },
  {
   "cell_type": "code",
   "execution_count": 56,
   "metadata": {},
   "outputs": [
    {
     "data": {
      "text/html": [
       "<div>\n",
       "<style scoped>\n",
       "    .dataframe tbody tr th:only-of-type {\n",
       "        vertical-align: middle;\n",
       "    }\n",
       "\n",
       "    .dataframe tbody tr th {\n",
       "        vertical-align: top;\n",
       "    }\n",
       "\n",
       "    .dataframe thead th {\n",
       "        text-align: right;\n",
       "    }\n",
       "</style>\n",
       "<table border=\"1\" class=\"dataframe\">\n",
       "  <thead>\n",
       "    <tr style=\"text-align: right;\">\n",
       "      <th></th>\n",
       "      <th>news</th>\n",
       "      <th>code</th>\n",
       "    </tr>\n",
       "  </thead>\n",
       "  <tbody>\n",
       "    <tr>\n",
       "      <th>843</th>\n",
       "      <td>서울뉴시스 박미소 기자  생활 속 거리두기생활방역로 방역지침 수준을 완화한 첫날인 ...</td>\n",
       "      <td>Society</td>\n",
       "    </tr>\n",
       "    <tr>\n",
       "      <th>3450</th>\n",
       "      <td>유유제약서울경제이 서울 잠실야구장 루 그라운드에 회사 이미지와 이름을 그려 넣는 광...</td>\n",
       "      <td>Lifestyle/Culture</td>\n",
       "    </tr>\n",
       "    <tr>\n",
       "      <th>4661</th>\n",
       "      <td>대구산업통상자원부가 공모한 스마트 특성화 기반 구축 사업에 경북에서는 구미와 경주...</td>\n",
       "      <td>IT/Science</td>\n",
       "    </tr>\n",
       "    <tr>\n",
       "      <th>4333</th>\n",
       "      <td>액션스퀘어로 이적한 고세준좌 백두산우 액션스퀘어로 이적한 고세준좌 백두산우  전자신...</td>\n",
       "      <td>IT/Science</td>\n",
       "    </tr>\n",
       "    <tr>\n",
       "      <th>3592</th>\n",
       "      <td>스트레칭을 하다 보면 다리찢기에 대한 욕심이 생긴다 효능은 알려진 대로다 틀어진 척...</td>\n",
       "      <td>Lifestyle/Culture</td>\n",
       "    </tr>\n",
       "    <tr>\n",
       "      <th>2545</th>\n",
       "      <td>사진연합뉴스 사진연합뉴스사진 사진미국 액상형 전자담배 브랜드 쥴을 운영하던 쥴랩스코...</td>\n",
       "      <td>Lifestyle/Culture</td>\n",
       "    </tr>\n",
       "    <tr>\n",
       "      <th>1136</th>\n",
       "      <td>일 재개장한 달서별빛캠프 캠핑장 전경 달서구청 제공 일 재개장한 달서별빛캠프 캠핑장...</td>\n",
       "      <td>Society</td>\n",
       "    </tr>\n",
       "    <tr>\n",
       "      <th>1912</th>\n",
       "      <td>아시아경제 호남취재본부 윤자민 기자 마재윤 전남소방본부장이 화재 취약대상 및 산불 ...</td>\n",
       "      <td>Society</td>\n",
       "    </tr>\n",
       "    <tr>\n",
       "      <th>2825</th>\n",
       "      <td>이데일리 방인권 기자 롯데백화점이 일 오전 서울 중구 소공동 롯데백화점 본점에서 달...</td>\n",
       "      <td>Lifestyle/Culture</td>\n",
       "    </tr>\n",
       "    <tr>\n",
       "      <th>698</th>\n",
       "      <td>앵커명의 사망자를 낸 이천 물류창고 공사현장 화재 현장에서 세 번째 정부 합동 감식...</td>\n",
       "      <td>Society</td>\n",
       "    </tr>\n",
       "  </tbody>\n",
       "</table>\n",
       "</div>"
      ],
      "text/plain": [
       "                                                   news               code\n",
       "843   서울뉴시스 박미소 기자  생활 속 거리두기생활방역로 방역지침 수준을 완화한 첫날인 ...            Society\n",
       "3450  유유제약서울경제이 서울 잠실야구장 루 그라운드에 회사 이미지와 이름을 그려 넣는 광...  Lifestyle/Culture\n",
       "4661   대구산업통상자원부가 공모한 스마트 특성화 기반 구축 사업에 경북에서는 구미와 경주...         IT/Science\n",
       "4333  액션스퀘어로 이적한 고세준좌 백두산우 액션스퀘어로 이적한 고세준좌 백두산우  전자신...         IT/Science\n",
       "3592  스트레칭을 하다 보면 다리찢기에 대한 욕심이 생긴다 효능은 알려진 대로다 틀어진 척...  Lifestyle/Culture\n",
       "2545  사진연합뉴스 사진연합뉴스사진 사진미국 액상형 전자담배 브랜드 쥴을 운영하던 쥴랩스코...  Lifestyle/Culture\n",
       "1136  일 재개장한 달서별빛캠프 캠핑장 전경 달서구청 제공 일 재개장한 달서별빛캠프 캠핑장...            Society\n",
       "1912  아시아경제 호남취재본부 윤자민 기자 마재윤 전남소방본부장이 화재 취약대상 및 산불 ...            Society\n",
       "2825  이데일리 방인권 기자 롯데백화점이 일 오전 서울 중구 소공동 롯데백화점 본점에서 달...  Lifestyle/Culture\n",
       "698   앵커명의 사망자를 낸 이천 물류창고 공사현장 화재 현장에서 세 번째 정부 합동 감식...            Society"
      ]
     },
     "execution_count": 56,
     "metadata": {},
     "output_type": "execute_result"
    }
   ],
   "source": [
    "df.sample(10)"
   ]
  },
  {
   "cell_type": "code",
   "execution_count": 31,
   "metadata": {},
   "outputs": [
    {
     "data": {
      "text/html": [
       "<div>\n",
       "<style scoped>\n",
       "    .dataframe tbody tr th:only-of-type {\n",
       "        vertical-align: middle;\n",
       "    }\n",
       "\n",
       "    .dataframe tbody tr th {\n",
       "        vertical-align: top;\n",
       "    }\n",
       "\n",
       "    .dataframe thead th {\n",
       "        text-align: right;\n",
       "    }\n",
       "</style>\n",
       "<table border=\"1\" class=\"dataframe\">\n",
       "  <thead>\n",
       "    <tr style=\"text-align: right;\">\n",
       "      <th></th>\n",
       "      <th>news</th>\n",
       "      <th>code</th>\n",
       "    </tr>\n",
       "  </thead>\n",
       "  <tbody>\n",
       "    <tr>\n",
       "      <th>5114</th>\n",
       "      <td>는 소비자로부터 월 이용료 1만~2만원을 받고 초고속 인터넷을 제공한다. 그런 SK...</td>\n",
       "      <td>IT/Science</td>\n",
       "    </tr>\n",
       "    <tr>\n",
       "      <th>5115</th>\n",
       "      <td>머리를 긁고 있는 오랑우탄. 몸을 긁는 행동을 따라 하는 것은 부정적 감정과 관련이...</td>\n",
       "      <td>IT/Science</td>\n",
       "    </tr>\n",
       "    <tr>\n",
       "      <th>5116</th>\n",
       "      <td>가 오는 15일 정식 출시하는 스마트폰 'LG벨벳'이 사실상 '공짜폰'이 될 전망이...</td>\n",
       "      <td>IT/Science</td>\n",
       "    </tr>\n",
       "    <tr>\n",
       "      <th>5117</th>\n",
       "      <td>이미지제공=게티이미지뱅크 이미지제공=게티이미지뱅크\\n\\n[Copyright ⓒ 전자...</td>\n",
       "      <td>IT/Science</td>\n",
       "    </tr>\n",
       "    <tr>\n",
       "      <th>5118</th>\n",
       "      <td>국내 제약바이오사가 신종 코로나바이러스 감염증(코로나19) 사태 이후 첫 실적발표에...</td>\n",
       "      <td>IT/Science</td>\n",
       "    </tr>\n",
       "    <tr>\n",
       "      <th>5119</th>\n",
       "      <td>신종 코로나바이러스 감염증(코로나19) 사태 이후 ‘가정의 달’ 5월에도 언택트(비...</td>\n",
       "      <td>IT/Science</td>\n",
       "    </tr>\n",
       "    <tr>\n",
       "      <th>5120</th>\n",
       "      <td>는 소비자로부터 월 이용료 1만~2만원을 받고 초고속 인터넷을 제공한다. 그런 SK...</td>\n",
       "      <td>IT/Science</td>\n",
       "    </tr>\n",
       "    <tr>\n",
       "      <th>5121</th>\n",
       "      <td>머리를 긁고 있는 오랑우탄. 몸을 긁는 행동을 따라 하는 것은 부정적 감정과 관련이...</td>\n",
       "      <td>IT/Science</td>\n",
       "    </tr>\n",
       "    <tr>\n",
       "      <th>5122</th>\n",
       "      <td>가 오는 15일 정식 출시하는 스마트폰 'LG벨벳'이 사실상 '공짜폰'이 될 전망이...</td>\n",
       "      <td>IT/Science</td>\n",
       "    </tr>\n",
       "    <tr>\n",
       "      <th>5123</th>\n",
       "      <td>이미지제공=게티이미지뱅크 이미지제공=게티이미지뱅크\\n\\n[Copyright ⓒ 전자...</td>\n",
       "      <td>IT/Science</td>\n",
       "    </tr>\n",
       "  </tbody>\n",
       "</table>\n",
       "</div>"
      ],
      "text/plain": [
       "                                                   news        code\n",
       "5114  는 소비자로부터 월 이용료 1만~2만원을 받고 초고속 인터넷을 제공한다. 그런 SK...  IT/Science\n",
       "5115  머리를 긁고 있는 오랑우탄. 몸을 긁는 행동을 따라 하는 것은 부정적 감정과 관련이...  IT/Science\n",
       "5116  가 오는 15일 정식 출시하는 스마트폰 'LG벨벳'이 사실상 '공짜폰'이 될 전망이...  IT/Science\n",
       "5117  이미지제공=게티이미지뱅크 이미지제공=게티이미지뱅크\\n\\n[Copyright ⓒ 전자...  IT/Science\n",
       "5118  국내 제약바이오사가 신종 코로나바이러스 감염증(코로나19) 사태 이후 첫 실적발표에...  IT/Science\n",
       "5119  신종 코로나바이러스 감염증(코로나19) 사태 이후 ‘가정의 달’ 5월에도 언택트(비...  IT/Science\n",
       "5120  는 소비자로부터 월 이용료 1만~2만원을 받고 초고속 인터넷을 제공한다. 그런 SK...  IT/Science\n",
       "5121  머리를 긁고 있는 오랑우탄. 몸을 긁는 행동을 따라 하는 것은 부정적 감정과 관련이...  IT/Science\n",
       "5122  가 오는 15일 정식 출시하는 스마트폰 'LG벨벳'이 사실상 '공짜폰'이 될 전망이...  IT/Science\n",
       "5123  이미지제공=게티이미지뱅크 이미지제공=게티이미지뱅크\\n\\n[Copyright ⓒ 전자...  IT/Science"
      ]
     },
     "execution_count": 31,
     "metadata": {},
     "output_type": "execute_result"
    }
   ],
   "source": [
    "import os\n",
    "\n",
    "csv_path = os.getenv(\"HOME\") + \"/aiffel/news_crawler/news_data.csv\"\n",
    "df = pd.read_table(csv_path, sep=',')\n",
    "df.tail(10)"
   ]
  },
  {
   "cell_type": "code",
   "execution_count": 32,
   "metadata": {},
   "outputs": [],
   "source": [
    "df['news'] = df['news'].str.replace(\"[^ㄱ-ㅎㅏ-ㅣ가-힣 ]\",\"\") # Remove characters other than Korean using regular expression. "
   ]
  },
  {
   "cell_type": "code",
   "execution_count": 33,
   "metadata": {},
   "outputs": [
    {
     "name": "stdout",
     "output_type": "stream",
     "text": [
      "news    0\n",
      "code    0\n",
      "dtype: int64\n"
     ]
    }
   ],
   "source": [
    "# Check if null data is in the sample.\n",
    "print(df.isnull().sum())"
   ]
  },
  {
   "cell_type": "code",
   "execution_count": 34,
   "metadata": {},
   "outputs": [
    {
     "name": "stdout",
     "output_type": "stream",
     "text": [
      "Number of news after removal process:  3994\n"
     ]
    }
   ],
   "source": [
    "# Remove every duplicated sample.\n",
    "df.drop_duplicates(subset=['news'], inplace=True)\n",
    "print('Number of news after removal process: ',len(df))"
   ]
  },
  {
   "cell_type": "code",
   "execution_count": 35,
   "metadata": {
    "scrolled": true
   },
   "outputs": [
    {
     "data": {
      "text/plain": [
       "<matplotlib.axes._subplots.AxesSubplot at 0x7fad9b6d7ad0>"
      ]
     },
     "execution_count": 35,
     "metadata": {},
     "output_type": "execute_result"
    },
    {
     "data": {
      "image/png": "[encoded data removed]",
      "text/plain": [
       "<Figure size 432x288 with 1 Axes>"
      ]
     },
     "metadata": {
      "needs_background": "light"
     },
     "output_type": "display_data"
    }
   ],
   "source": [
    "df['code'].value_counts().plot(kind = 'bar')\n"
   ]
  },
  {
   "cell_type": "code",
   "execution_count": 36,
   "metadata": {},
   "outputs": [
    {
     "name": "stdout",
     "output_type": "stream",
     "text": [
      "                code  count\n",
      "0         IT/Science    903\n",
      "1  Lifestyle/Culture   1423\n",
      "2            Society   1668\n"
     ]
    }
   ],
   "source": [
    "print(df.groupby('code').size().reset_index(name = 'count'))"
   ]
  },
  {
   "cell_type": "code",
   "execution_count": 37,
   "metadata": {},
   "outputs": [],
   "source": [
    "from konlpy.tag import Mecab\n",
    "#tokenizer = Mecab()\n",
    "stopwords = ['에','는','은','을','했','에게','있','이','의','하','한','다','과','때문','할','수','무단','따른','및','금지','전재','경향신문','기자','는데','가','등','들','파이낸셜','저작','등','뉴스']"
   ]
  },
  {
   "cell_type": "code",
   "execution_count": 38,
   "metadata": {},
   "outputs": [],
   "source": [
    "#Altering the tokeniser method\n",
    "from konlpy.tag import Hannanum, Kkma\n",
    "#tokenizer = Hannanum()\n",
    "tokenizer = Kkma()"
   ]
  },
  {
   "cell_type": "code",
   "execution_count": 39,
   "metadata": {},
   "outputs": [],
   "source": [
    "# Tokenise and discard stopwords.\n",
    "def preprocessing(data):\n",
    "  text_data = []\n",
    "\n",
    "  for sentence in data:\n",
    "    temp_data = []\n",
    "    #- Tokenise\n",
    "    temp_data = tokenizer.morphs(sentence) \n",
    "    #- discard stopwords\n",
    "    temp_data = [word for word in temp_data if not word in stopwords] \n",
    "    text_data.append(temp_data)\n",
    "\n",
    "  text_data = list(map(' '.join, text_data))\n",
    "\n",
    "  return text_data"
   ]
  },
  {
   "cell_type": "code",
   "execution_count": 60,
   "metadata": {
    "scrolled": true
   },
   "outputs": [],
   "source": [
    "text_data = preprocessing(df['news'])\n",
    "#print(text_data[0])"
   ]
  },
  {
   "cell_type": "code",
   "execution_count": 41,
   "metadata": {},
   "outputs": [],
   "source": [
    "from sklearn.model_selection import train_test_split\n",
    "from sklearn.feature_extraction.text import CountVectorizer\n",
    "from sklearn.feature_extraction.text import TfidfTransformer\n",
    "from sklearn.naive_bayes import MultinomialNB\n",
    "from sklearn import metrics"
   ]
  },
  {
   "cell_type": "code",
   "execution_count": 42,
   "metadata": {},
   "outputs": [],
   "source": [
    "# Data partition\n",
    "X_train, X_test, y_train, y_test = train_test_split(text_data, df['code'], test_size = 0.2, random_state = 0)"
   ]
  },
  {
   "cell_type": "code",
   "execution_count": 43,
   "metadata": {},
   "outputs": [
    {
     "name": "stdout",
     "output_type": "stream",
     "text": [
      "Number of news for training : 3195\n",
      "Number of news for testing :  799\n",
      "Number of labels for training :  3195\n",
      "Number of labels for testing :  799\n"
     ]
    }
   ],
   "source": [
    "print('Number of news for training :', len(X_train))\n",
    "print('Number of news for testing : ', len(X_test))\n",
    "print('Number of labels for training : ', len(y_train))\n",
    "print('Number of labels for testing : ', len(y_test))"
   ]
  },
  {
   "cell_type": "code",
   "execution_count": 50,
   "metadata": {},
   "outputs": [
    {
     "name": "stdout",
     "output_type": "stream",
     "text": [
      "(3195, 26838)\n",
      "  (0, 26646)\t0.059640431247834254\n",
      "  (0, 26471)\t0.09166921289410415\n",
      "  (0, 26383)\t0.053765063905626284\n",
      "  (0, 26368)\t0.04013968635157613\n",
      "  (0, 26306)\t0.038085982816089214\n",
      "  (0, 25728)\t0.12104970371705405\n",
      "  (0, 25586)\t0.07056314781650644\n",
      "  (0, 25573)\t0.044539279522087916\n",
      "  (0, 25363)\t0.04007540222498938\n",
      "  (0, 25183)\t0.07158553044779477\n",
      "  (0, 25103)\t0.04362550153275062\n",
      "  (0, 24552)\t0.0641962296046239\n",
      "  (0, 23961)\t0.08874292274069209\n",
      "  (0, 23017)\t0.02504218905961791\n",
      "  (0, 22403)\t0.0390875331386856\n",
      "  (0, 22134)\t0.052799723276252736\n",
      "  (0, 21942)\t0.07571748299080505\n",
      "  (0, 21442)\t0.059640431247834254\n",
      "  (0, 21352)\t0.053674309664089585\n",
      "  (0, 21180)\t0.09891416547781748\n",
      "  (0, 21174)\t0.09957819768286276\n",
      "  (0, 21107)\t0.13114847698195087\n",
      "  (0, 21007)\t0.03867768929696792\n",
      "  (0, 21000)\t0.057446893080468714\n",
      "  (0, 20770)\t0.04978909884143138\n",
      "  :\t:\n",
      "  (0, 5523)\t0.08032569223605264\n",
      "  (0, 5509)\t0.09544185705509728\n",
      "  (0, 5323)\t0.02644994589129344\n",
      "  (0, 5008)\t0.05815933797306284\n",
      "  (0, 4932)\t0.07231426989512893\n",
      "  (0, 4692)\t0.16186368191026118\n",
      "  (0, 4638)\t0.05815933797306284\n",
      "  (0, 4523)\t0.04869294803239793\n",
      "  (0, 4522)\t0.05562068004758951\n",
      "  (0, 3160)\t0.07701177711477411\n",
      "  (0, 3088)\t0.25755715354833797\n",
      "  (0, 2505)\t0.08178429804793086\n",
      "  (0, 2501)\t0.07965303527859927\n",
      "  (0, 2010)\t0.05935840025834468\n",
      "  (0, 1984)\t0.08257932543201134\n",
      "  (0, 1739)\t0.053142590794838324\n",
      "  (0, 1295)\t0.0324064530619788\n",
      "  (0, 1269)\t0.07266972147493349\n",
      "  (0, 831)\t0.2591948354326917\n",
      "  (0, 726)\t0.048508674243022125\n",
      "  (0, 643)\t0.08650513656277926\n",
      "  (0, 476)\t0.14426553666752828\n",
      "  (0, 213)\t0.040400021165204116\n",
      "  (0, 82)\t0.037336411060063114\n",
      "  (0, 45)\t0.17989079361229413\n"
     ]
    }
   ],
   "source": [
    "#- Count vectoriser which counts the number of words.(Like TF)\n",
    "count_vect = CountVectorizer()\n",
    "X_train_counts = count_vect.fit_transform(X_train)\n",
    "#print(X_train_counts)\n",
    "#print(X_train_counts.shape)\n",
    "\n",
    "#- Receive TF-IDF from the result of count vectoriser.\n",
    "tfidf_transformer = TfidfTransformer()\n",
    "X_train_tfidf = tfidf_transformer.fit_transform(X_train_counts)\n",
    "print(X_train_tfidf.shape)\n",
    "print(X_train_tfidf)\n",
    "\n",
    "\n",
    "#- Execute Naive bayes classifier.\n",
    "#- X_train : TF-IDF vector, y_train : label.\n",
    "clf = MultinomialNB().fit(X_train_tfidf, y_train)\n",
    "#print(clf)"
   ]
  },
  {
   "cell_type": "code",
   "execution_count": 51,
   "metadata": {},
   "outputs": [],
   "source": [
    "# Processing function which automatically converts into TF-IDF.\n",
    "def tfidf_vectorizer(data):\n",
    "  data_counts = count_vect.transform(data)\n",
    "  data_tfidf = tfidf_transformer.transform(data_counts)\n",
    "  return data_tfidf"
   ]
  },
  {
   "cell_type": "code",
   "execution_count": 52,
   "metadata": {},
   "outputs": [
    {
     "name": "stdout",
     "output_type": "stream",
     "text": [
      "['Society']\n"
     ]
    }
   ],
   "source": [
    "new_sent = preprocessing([\"민주당 일각에서 법사위의 체계·자구 심사 기능을 없애야 한다는 \\\n",
    "                           주장이 나오는 데 대해 “체계·자구 심사가 법안 지연의 수단으로 \\\n",
    "                          쓰이는 것은 바람직하지 않다”면서도 “국회를 통과하는 법안 중 위헌\\\n",
    "                          법률이 1년에 10건 넘게 나온다. 그런데 체계·자구 심사까지 없애면 매우 위험하다”고 반박했다.\"])\n",
    "\n",
    "print(clf.predict(tfidf_vectorizer(new_sent)))"
   ]
  },
  {
   "cell_type": "code",
   "execution_count": 53,
   "metadata": {},
   "outputs": [
    {
     "name": "stdout",
     "output_type": "stream",
     "text": [
      "['Lifestyle/Culture']\n"
     ]
    }
   ],
   "source": [
    "new_sent = preprocessing([\"인도 로맨틱 코미디 영화 <까립까립 싱글>(2017)을 봤을 때 나는 두 눈을 의심했다. \\\n",
    "                          저 사람이 남자 주인공이라고? 노안에 가까운 이목구비와 기름때로 뭉친 파마머리와, \\\n",
    "                          대충 툭툭 던지는 말투 등 전혀 로맨틱하지 않은 외모였다. 반감이 일면서 \\\n",
    "                          ‘난 외모지상주의자가 아니다’라고 자부했던 나에 대해 회의가 들었다.\\\n",
    "                           티브이를 꺼버릴까? 다른 걸 볼까? 그런데, 이상하다. 왜 이렇게 매력 있지? 개구리와\\\n",
    "                            같이 툭 불거진 눈망울 안에는 어떤 인도 배우에게서도 느끼지 못한 \\\n",
    "                            부드러움과 선량함, 무엇보다 슬픔이 있었다. 2시간 뒤 영화가 끝나고 나는 완전히 이 배우에게 빠졌다\"])\n",
    "print(clf.predict(tfidf_vectorizer(new_sent)))"
   ]
  },
  {
   "cell_type": "code",
   "execution_count": 54,
   "metadata": {},
   "outputs": [
    {
     "name": "stdout",
     "output_type": "stream",
     "text": [
      "['IT/Science']\n"
     ]
    }
   ],
   "source": [
    "new_sent = preprocessing([\"20분기 연속으로 적자에 시달리는 LG전자가 브랜드 이름부터 성능, 디자인까지 대대적인 변화를 \\\n",
    "                          적용한 LG 벨벳은 등장 전부터 온라인 커뮤니티를 뜨겁게 달궜다. 사용자들은 “디자인이 예쁘다”, \\\n",
    "                          “슬림하다”는 반응을 보이며 LG 벨벳에 대한 기대감을 드러냈다.\"])\n",
    "print(clf.predict(tfidf_vectorizer(new_sent)))"
   ]
  },
  {
   "cell_type": "code",
   "execution_count": 55,
   "metadata": {
    "scrolled": true
   },
   "outputs": [
    {
     "name": "stdout",
     "output_type": "stream",
     "text": [
      "                   precision    recall  f1-score   support\n",
      "\n",
      "       IT/Science       0.93      0.75      0.83       186\n",
      "Lifestyle/Culture       0.81      0.79      0.80       264\n",
      "          Society       0.81      0.91      0.86       349\n",
      "\n",
      "         accuracy                           0.83       799\n",
      "        macro avg       0.85      0.82      0.83       799\n",
      "     weighted avg       0.84      0.83      0.83       799\n",
      "\n"
     ]
    }
   ],
   "source": [
    "y_pred = clf.predict(tfidf_vectorizer(X_test))\n",
    "print(metrics.classification_report(y_test, y_pred))"
   ]
  },
  {
   "cell_type": "code",
   "execution_count": null,
   "metadata": {},
   "outputs": [],
   "source": []
  }
 ],
 "metadata": {
  "kernelspec": {
   "display_name": "aiffel",
   "language": "python",
   "name": "aiffel"
  },
  "language_info": {
   "codemirror_mode": {
    "name": "ipython",
    "version": 3
   },
   "file_extension": ".py",
   "mimetype": "text/x-python",
   "name": "python",
   "nbconvert_exporter": "python",
   "pygments_lexer": "ipython3",
   "version": "3.7.6"
  }
 },
 "nbformat": 4,
 "nbformat_minor": 4
}
