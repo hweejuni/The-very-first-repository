{
 "cells": [
  {
   "cell_type": "markdown",
   "metadata": {},
   "source": [
    "# Data preparation"
   ]
  },
  {
   "cell_type": "code",
   "execution_count": 2,
   "metadata": {},
   "outputs": [],
   "source": [
    "import glob\n",
    "import os\n",
    "import re\n",
    "import numpy as np         \n",
    "import tensorflow as tf\n",
    "from sklearn.model_selection import train_test_split\n",
    "from tensorflow.keras.layers import Embedding, LSTM, Dense"
   ]
  },
  {
   "cell_type": "code",
   "execution_count": 3,
   "metadata": {},
   "outputs": [
    {
     "name": "stdout",
     "output_type": "stream",
     "text": [
      "데이터 크기: 187088\n",
      "Examples:\n",
      " ['The Cat in the Hat', 'By Dr. Seuss', 'The sun did not shine.']\n"
     ]
    }
   ],
   "source": [
    "txt_file_path = os.getenv('HOME')+'/aiffel/lyricist/data/song_lyrics/*'\n",
    "\n",
    "txt_list = glob.glob(txt_file_path)\n",
    "\n",
    "raw_corpus = []\n",
    "\n",
    "# 여러개의 txt 파일을 모두 읽어서 raw_corpus 에 담습니다.\n",
    "for txt_file in txt_list:\n",
    "    with open(txt_file, \"r\") as f:\n",
    "        raw = f.read().splitlines()\n",
    "        raw_corpus.extend(raw)\n",
    "\n",
    "print(\"데이터 크기:\", len(raw_corpus))\n",
    "print(\"Examples:\\n\", raw_corpus[:3])"
   ]
  },
  {
   "cell_type": "markdown",
   "metadata": {},
   "source": [
    "# Preprocessing"
   ]
  },
  {
   "cell_type": "code",
   "execution_count": 4,
   "metadata": {},
   "outputs": [
    {
     "name": "stdout",
     "output_type": "stream",
     "text": [
      "<start> this is sample sentence . <end>\n"
     ]
    }
   ],
   "source": [
    "def preprocess_sentence(sentence):\n",
    "    sentence = sentence.lower().strip()       # 소문자로 바꾸고 양쪽 공백을 삭제\n",
    "  \n",
    "    # 아래 3단계를 거쳐 sentence는 스페이스 1개를 delimeter로 하는 소문자 단어 시퀀스로 바뀝니다.\n",
    "    sentence = re.sub(r\"([?.!,¿])\", r\" \\1 \", sentence)        # 패턴의 특수문자를 만나면 특수문자 양쪽에 공백을 추가\n",
    "    sentence = re.sub(r'[\" \"]+', \" \", sentence)                  # 공백 패턴을 만나면 스페이스 1개로 치환\n",
    "    sentence = re.sub(r\"[^a-zA-Z?.!,¿]+\", \" \", sentence)  # a-zA-Z?.!,¿ 패턴을 제외한 모든 문자(공백문자까지도)를 스페이스 1개로 치환\n",
    "\n",
    "    sentence = sentence.strip()\n",
    "\n",
    "    sentence = '<start> ' + sentence + ' <end>'      # 이전 스텝에서 본 것처럼 문장 앞뒤로 <start>와 <end>를 단어처럼 붙여 줍니다\n",
    "    \n",
    "    return sentence\n",
    "\n",
    "print(preprocess_sentence(\"This @_is ;;;sample        sentence.\"))   # 이 문장이 어떻게 필터링되는지 확인해 보세요.v"
   ]
  },
  {
   "cell_type": "code",
   "execution_count": 5,
   "metadata": {},
   "outputs": [
    {
     "data": {
      "text/plain": [
       "['<start> the cat in the hat <end>',\n",
       " '<start> by dr . seuss <end>',\n",
       " '<start> the sun did not shine . <end>',\n",
       " '<start> it was too wet to play . <end>',\n",
       " '<start> so we sat in the house <end>',\n",
       " '<start> all that cold cold wet day . <end>',\n",
       " '<start> i sat there with sally . <end>',\n",
       " '<start> we sat there we two . <end>',\n",
       " '<start> and i said how i wish <end>',\n",
       " '<start> we had something to do ! <end>']"
      ]
     },
     "execution_count": 5,
     "metadata": {},
     "output_type": "execute_result"
    }
   ],
   "source": [
    "corpus = []\n",
    "\n",
    "for sentence in raw_corpus:\n",
    "    if len(sentence) == 0: continue\n",
    "    if sentence[-1] == \":\": continue\n",
    "        \n",
    "    corpus.append(preprocess_sentence(sentence))\n",
    "        \n",
    "corpus[:10]"
   ]
  },
  {
   "cell_type": "code",
   "execution_count": 6,
   "metadata": {},
   "outputs": [
    {
     "name": "stdout",
     "output_type": "stream",
     "text": [
      "[[   2    6  903 ...    0    0    0]\n",
      " [   2  122 2584 ...    0    0    0]\n",
      " [   2    6  304 ...    0    0    0]\n",
      " ...\n",
      " [   2  673   27 ...    0    0    0]\n",
      " [   2  673   27 ...    0    0    0]\n",
      " [   2  673   27 ...    0    0    0]] <keras_preprocessing.text.Tokenizer object at 0x7fc0f558ab10>\n"
     ]
    }
   ],
   "source": [
    "def tokenize(corpus):\n",
    "    # 텐서플로우에서 제공하는 Tokenizer 패키지를 생성\n",
    "    tokenizer = tf.keras.preprocessing.text.Tokenizer(\n",
    "        num_words=12000,  # 전체 단어의 개수 \n",
    "        filters=' ',    # 별도로 전처리 로직을 추가할 수 있습니다. 이번에는 사용하지 않겠습니다.\n",
    "        oov_token=\"<unk>\"  # out-of-vocabulary, 사전에 없었던 단어는 어떤 토큰으로 대체할지\n",
    "    )\n",
    "    tokenizer.fit_on_texts(corpus)   # 우리가 구축한 corpus로부터 Tokenizer가 사전을 자동구축하게 됩니다.\n",
    "\n",
    "    # 이후 tokenizer를 활용하여 모델에 입력할 데이터셋을 구축하게 됩니다.\n",
    "    tensor = tokenizer.texts_to_sequences(corpus)   # tokenizer는 구축한 사전으로부터 corpus를 해석해 Tensor로 변환합니다.\n",
    "    total_data_text = list(tensor)\n",
    "    num_tokens = [len(tokens) for tokens in total_data_text]\n",
    "    max_tokens = np.mean(num_tokens) + 2 * np.std(num_tokens)\n",
    "    maxlen = int(max_tokens)\n",
    "\n",
    "    # 입력 데이터의 시퀀스 길이를 일정하게 맞추기 위한 padding  메소드를 제공합니다.\n",
    "    # maxlen의 디폴트값은 None입니다. 이 경우 corpus의 가장 긴 문장을 기준으로 시퀀스 길이가 맞춰집니다.\n",
    "    tensor = tf.keras.preprocessing.sequence.pad_sequences(tensor, padding='post',maxlen=maxlen)\n",
    "    # maxlen=maxlen을 통한 outlier 제거\n",
    "\n",
    "    print(tensor,tokenizer)\n",
    "    return tensor, tokenizer\n",
    "\n",
    "tensor, tokenizer = tokenize(corpus)"
   ]
  },
  {
   "cell_type": "code",
   "execution_count": 7,
   "metadata": {},
   "outputs": [
    {
     "name": "stdout",
     "output_type": "stream",
     "text": [
      "1 : <unk>\n",
      "2 : <start>\n",
      "3 : <end>\n",
      "4 : ,\n",
      "5 : i\n",
      "6 : the\n",
      "7 : you\n",
      "8 : and\n",
      "9 : a\n",
      "10 : to\n"
     ]
    }
   ],
   "source": [
    "# tokenizer에 구축된 단어 사전의 인덱스 확인\n",
    "for idx in tokenizer.index_word:\n",
    "    print(idx, \":\", tokenizer.index_word[idx])\n",
    "\n",
    "    if idx >= 10: break"
   ]
  },
  {
   "cell_type": "code",
   "execution_count": 8,
   "metadata": {},
   "outputs": [
    {
     "name": "stdout",
     "output_type": "stream",
     "text": [
      "[   2    6  903   14    6 1350    3    0    0    0    0    0    0    0\n",
      "    0    0    0    0    0]\n",
      "[   6  903   14    6 1350    3    0    0    0    0    0    0    0    0\n",
      "    0    0    0    0    0]\n",
      "(19,)\n"
     ]
    }
   ],
   "source": [
    "X = tensor[:, :-1]  # tensor에서 마지막 토큰을 잘라내서 소스 문장을 생성합니다. 마지막 토큰은 <END>가 아니라 <pad>일 가능성이 높습니다.\n",
    "y = tensor[:, 1:]    # tensor에서 <START>를 잘라내서 타겟 문장을 생성합니다.\n",
    "\n",
    "print(X[0])\n",
    "print(y[0])\n",
    "print(X[0].shape) # max length  = 346"
   ]
  },
  {
   "cell_type": "code",
   "execution_count": 9,
   "metadata": {},
   "outputs": [],
   "source": [
    "enc_train, enc_val, dec_train, dec_val = train_test_split(X, y, test_size=0.2, shuffle = True, random_state=42)"
   ]
  },
  {
   "cell_type": "code",
   "execution_count": 10,
   "metadata": {},
   "outputs": [
    {
     "name": "stdout",
     "output_type": "stream",
     "text": [
      "Source Train: (140599, 19)\n",
      "Target Train: (140599, 19)\n"
     ]
    }
   ],
   "source": [
    "print(\"Source Train:\", enc_train.shape)\n",
    "print(\"Target Train:\", dec_train.shape)"
   ]
  },
  {
   "cell_type": "code",
   "execution_count": 15,
   "metadata": {},
   "outputs": [
    {
     "data": {
      "text/plain": [
       "<BatchDataset shapes: ((256, 19), (256, 19)), types: (tf.int32, tf.int32)>"
      ]
     },
     "execution_count": 15,
     "metadata": {},
     "output_type": "execute_result"
    }
   ],
   "source": [
    "BUFFER_SIZE = len(X)\n",
    "BATCH_SIZE = 256\n",
    "steps_per_epoch = len(X) // BATCH_SIZE\n",
    "\n",
    "VOCAB_SIZE = tokenizer.num_words + 1    # tokenizer가 구축한 단어사전 내 7000개와, 여기 포함되지 않은 0:<pad>를 포함하여 7001개\n",
    "\n",
    "dataset = tf.data.Dataset.from_tensor_slices((X, y)).shuffle(BUFFER_SIZE)\n",
    "dataset = dataset.batch(BATCH_SIZE, drop_remainder=True)\n",
    "dataset"
   ]
  },
  {
   "cell_type": "markdown",
   "metadata": {},
   "source": [
    "# 모델"
   ]
  },
  {
   "cell_type": "code",
   "execution_count": 12,
   "metadata": {},
   "outputs": [],
   "source": [
    "class TextGenerator(tf.keras.Model):\n",
    "    def __init__(self, vocab_size, embedding_size, hidden_size):\n",
    "        super(TextGenerator, self).__init__()\n",
    "        \n",
    "        self.embedding = tf.keras.layers.Embedding(vocab_size, embedding_size)\n",
    "        self.rnn_1 = tf.keras.layers.LSTM(hidden_size, return_sequences=True)\n",
    "        self.rnn_2 = tf.keras.layers.LSTM(hidden_size, return_sequences=True)\n",
    "        self.linear = tf.keras.layers.Dense(vocab_size)\n",
    "        \n",
    "    def call(self, x):\n",
    "        out = self.embedding(x)\n",
    "        out = self.rnn_1(out)\n",
    "        out = self.rnn_2(out)\n",
    "        out = self.linear(out)\n",
    "        \n",
    "        return out\n",
    "    \n",
    "embedding_size = 256\n",
    "hidden_size = 1024\n",
    "model = TextGenerator(tokenizer.num_words + 1, embedding_size , hidden_size)"
   ]
  },
  {
   "cell_type": "code",
   "execution_count": 16,
   "metadata": {},
   "outputs": [
    {
     "data": {
      "text/plain": [
       "<tf.Tensor: shape=(256, 19, 12001), dtype=float32, numpy=\n",
       "array([[[-1.83450422e-04,  1.54117326e-04, -1.03245788e-04, ...,\n",
       "         -2.18200730e-05,  6.39171121e-05,  1.51997796e-04],\n",
       "        [-3.83957959e-04,  2.32917737e-04,  1.16457115e-04, ...,\n",
       "          5.56566047e-05,  1.45285652e-04,  1.28228552e-04],\n",
       "        [-5.86198701e-04,  1.63399876e-04,  2.09341801e-04, ...,\n",
       "         -3.59306500e-06,  1.66437007e-04,  1.73283945e-04],\n",
       "        ...,\n",
       "        [-3.42818815e-03, -7.92458130e-04, -1.93423603e-03, ...,\n",
       "          2.96862028e-03, -3.18909879e-03,  6.90072367e-04],\n",
       "        [-3.39134317e-03, -8.19502340e-04, -1.98594737e-03, ...,\n",
       "          3.06102703e-03, -3.29980394e-03,  7.52031046e-04],\n",
       "        [-3.33969900e-03, -8.29085824e-04, -2.02124752e-03, ...,\n",
       "          3.13235889e-03, -3.38933012e-03,  8.21006543e-04]],\n",
       "\n",
       "       [[-1.83450422e-04,  1.54117326e-04, -1.03245788e-04, ...,\n",
       "         -2.18200730e-05,  6.39171121e-05,  1.51997796e-04],\n",
       "        [-2.19654437e-04,  1.65621561e-04, -1.05598601e-05, ...,\n",
       "          5.95661477e-05,  3.19287472e-04,  3.75617165e-05],\n",
       "        [ 7.66528756e-05, -4.67833597e-05, -4.86016797e-04, ...,\n",
       "          1.01320482e-04,  5.23358234e-04, -1.57669652e-04],\n",
       "        ...,\n",
       "        [-2.98663019e-03, -8.20127083e-04, -1.04088231e-03, ...,\n",
       "          1.88183517e-03, -2.00337847e-03, -3.75662115e-04],\n",
       "        [-3.29128560e-03, -9.29098576e-04, -1.24883547e-03, ...,\n",
       "          2.09184387e-03, -2.25465163e-03, -3.39836144e-04],\n",
       "        [-3.50040942e-03, -1.02244003e-03, -1.42497965e-03, ...,\n",
       "          2.28767563e-03, -2.47425609e-03, -2.73629237e-04]],\n",
       "\n",
       "       [[-1.83450422e-04,  1.54117326e-04, -1.03245788e-04, ...,\n",
       "         -2.18200730e-05,  6.39171121e-05,  1.51997796e-04],\n",
       "        [-3.42308282e-04,  5.44371251e-05, -3.47978406e-04, ...,\n",
       "         -4.26238112e-05,  1.98561320e-04,  2.23461961e-04],\n",
       "        [-6.02903659e-04,  2.62624904e-04, -1.33397378e-04, ...,\n",
       "          2.33168495e-04,  1.03725601e-04,  4.58680355e-04],\n",
       "        ...,\n",
       "        [-3.08539858e-03, -8.95031553e-04, -1.43162580e-03, ...,\n",
       "          2.48612044e-03, -3.27076833e-03,  3.42642306e-04],\n",
       "        [-3.16313794e-03, -9.10449366e-04, -1.55556877e-03, ...,\n",
       "          2.70979851e-03, -3.36416834e-03,  4.45500045e-04],\n",
       "        [-3.19844275e-03, -9.12720629e-04, -1.65394251e-03, ...,\n",
       "          2.89272377e-03, -3.43130389e-03,  5.45894844e-04]],\n",
       "\n",
       "       ...,\n",
       "\n",
       "       [[-1.83450422e-04,  1.54117326e-04, -1.03245788e-04, ...,\n",
       "         -2.18200730e-05,  6.39171121e-05,  1.51997796e-04],\n",
       "        [-3.83957959e-04,  2.32917737e-04,  1.16457115e-04, ...,\n",
       "          5.56566047e-05,  1.45285652e-04,  1.28228552e-04],\n",
       "        [-4.28457424e-04,  3.72642127e-04,  2.88263051e-04, ...,\n",
       "         -5.92915603e-05,  1.04981424e-04,  1.06064756e-04],\n",
       "        ...,\n",
       "        [-3.01578082e-03, -7.50029576e-04, -1.12606422e-03, ...,\n",
       "          2.49580923e-03, -3.13906372e-03,  5.84216505e-05],\n",
       "        [-3.09318351e-03, -7.89869344e-04, -1.26655260e-03, ...,\n",
       "          2.66603776e-03, -3.25886067e-03,  1.47788960e-04],\n",
       "        [-3.12829274e-03, -8.15566222e-04, -1.38620287e-03, ...,\n",
       "          2.80529656e-03, -3.35218059e-03,  2.49053119e-04]],\n",
       "\n",
       "       [[-1.83450422e-04,  1.54117326e-04, -1.03245788e-04, ...,\n",
       "         -2.18200730e-05,  6.39171121e-05,  1.51997796e-04],\n",
       "        [-2.04937242e-04,  2.24147414e-04, -2.96477578e-04, ...,\n",
       "         -3.20195250e-04,  1.09228225e-04, -3.96663927e-05],\n",
       "        [-1.41272671e-04,  1.34066082e-04, -3.80299869e-04, ...,\n",
       "         -6.37052814e-04,  3.17064958e-04, -1.57104296e-04],\n",
       "        ...,\n",
       "        [-2.77611800e-03, -1.24434032e-03, -1.44618144e-03, ...,\n",
       "          2.42127245e-03, -2.76393769e-03,  1.53056273e-04],\n",
       "        [-2.84690247e-03, -1.22886279e-03, -1.56575313e-03, ...,\n",
       "          2.59664189e-03, -2.91574374e-03,  2.64575501e-04],\n",
       "        [-2.88398890e-03, -1.19948143e-03, -1.66189682e-03, ...,\n",
       "          2.74160621e-03, -3.04351840e-03,  3.78991856e-04]],\n",
       "\n",
       "       [[-1.83450422e-04,  1.54117326e-04, -1.03245788e-04, ...,\n",
       "         -2.18200730e-05,  6.39171121e-05,  1.51997796e-04],\n",
       "        [-5.21528185e-04,  2.60247383e-04, -1.05973624e-04, ...,\n",
       "          1.55928166e-04, -7.15154601e-05,  1.96588764e-04],\n",
       "        [-6.93798414e-04,  2.98502360e-04,  1.10595909e-04, ...,\n",
       "          2.02828858e-04, -9.85093538e-06,  3.68033565e-04],\n",
       "        ...,\n",
       "        [-3.41769960e-03, -7.71399529e-04, -1.40039774e-03, ...,\n",
       "          2.77716573e-03, -3.15011665e-03,  2.26595788e-04],\n",
       "        [-3.36168474e-03, -7.99184490e-04, -1.50684058e-03, ...,\n",
       "          2.91974563e-03, -3.25008435e-03,  3.57252808e-04],\n",
       "        [-3.29581252e-03, -8.07542237e-04, -1.59251317e-03, ...,\n",
       "          3.03200190e-03, -3.33163445e-03,  4.84780379e-04]]],\n",
       "      dtype=float32)>"
      ]
     },
     "execution_count": 16,
     "metadata": {},
     "output_type": "execute_result"
    }
   ],
   "source": [
    "for src_sample, tgt_sample in dataset.take(1): break\n",
    "model(src_sample)"
   ]
  },
  {
   "cell_type": "code",
   "execution_count": 17,
   "metadata": {},
   "outputs": [
    {
     "name": "stdout",
     "output_type": "stream",
     "text": [
      "Model: \"text_generator\"\n",
      "_________________________________________________________________\n",
      "Layer (type)                 Output Shape              Param #   \n",
      "=================================================================\n",
      "embedding (Embedding)        multiple                  3072256   \n",
      "_________________________________________________________________\n",
      "lstm (LSTM)                  multiple                  5246976   \n",
      "_________________________________________________________________\n",
      "lstm_1 (LSTM)                multiple                  8392704   \n",
      "_________________________________________________________________\n",
      "dense (Dense)                multiple                  12301025  \n",
      "=================================================================\n",
      "Total params: 29,012,961\n",
      "Trainable params: 29,012,961\n",
      "Non-trainable params: 0\n",
      "_________________________________________________________________\n"
     ]
    }
   ],
   "source": [
    "model.summary()"
   ]
  },
  {
   "cell_type": "code",
   "execution_count": 19,
   "metadata": {},
   "outputs": [
    {
     "name": "stdout",
     "output_type": "stream",
     "text": [
      "Epoch 1/10\n",
      "686/686 [==============================] - 139s 203ms/step - loss: 2.6818\n",
      "Epoch 2/10\n",
      "686/686 [==============================] - 138s 202ms/step - loss: 2.3123\n",
      "Epoch 3/10\n",
      "686/686 [==============================] - 133s 195ms/step - loss: 2.1211\n",
      "Epoch 4/10\n",
      "686/686 [==============================] - 145s 212ms/step - loss: 1.9613\n",
      "Epoch 5/10\n",
      "686/686 [==============================] - 144s 210ms/step - loss: 1.8236\n",
      "Epoch 6/10\n",
      "686/686 [==============================] - 146s 212ms/step - loss: 1.7030\n",
      "Epoch 7/10\n",
      "686/686 [==============================] - 146s 212ms/step - loss: 1.5957\n",
      "Epoch 8/10\n",
      "686/686 [==============================] - 146s 212ms/step - loss: 1.4985\n",
      "Epoch 9/10\n",
      "686/686 [==============================] - 146s 212ms/step - loss: 1.4094\n",
      "Epoch 10/10\n",
      "686/686 [==============================] - 146s 212ms/step - loss: 1.3256\n"
     ]
    },
    {
     "ename": "NameError",
     "evalue": "name 'epochs' is not defined",
     "output_type": "error",
     "traceback": [
      "\u001b[0;31m---------------------------------------------------------------------------\u001b[0m",
      "\u001b[0;31mNameError\u001b[0m                                 Traceback (most recent call last)",
      "\u001b[0;32m<ipython-input-19-0a5882003360>\u001b[0m in \u001b[0;36m<module>\u001b[0;34m\u001b[0m\n\u001b[1;32m      9\u001b[0m history = model.fit(enc_train, \n\u001b[1;32m     10\u001b[0m           \u001b[0mdec_train\u001b[0m\u001b[0;34m,\u001b[0m\u001b[0;34m\u001b[0m\u001b[0;34m\u001b[0m\u001b[0m\n\u001b[0;32m---> 11\u001b[0;31m           \u001b[0mepochs\u001b[0m\u001b[0;34m=\u001b[0m\u001b[0mepochs\u001b[0m\u001b[0;34m,\u001b[0m\u001b[0;34m\u001b[0m\u001b[0;34m\u001b[0m\u001b[0m\n\u001b[0m\u001b[1;32m     12\u001b[0m           \u001b[0mbatch_size\u001b[0m\u001b[0;34m=\u001b[0m\u001b[0;36m256\u001b[0m\u001b[0;34m,\u001b[0m\u001b[0;34m\u001b[0m\u001b[0;34m\u001b[0m\u001b[0m\n\u001b[1;32m     13\u001b[0m           \u001b[0mvalidation_data\u001b[0m\u001b[0;34m=\u001b[0m\u001b[0;34m(\u001b[0m\u001b[0menc_val\u001b[0m\u001b[0;34m,\u001b[0m \u001b[0mdec_val\u001b[0m\u001b[0;34m)\u001b[0m\u001b[0;34m,\u001b[0m\u001b[0;34m\u001b[0m\u001b[0;34m\u001b[0m\u001b[0m\n",
      "\u001b[0;31mNameError\u001b[0m: name 'epochs' is not defined"
     ]
    }
   ],
   "source": [
    "optimizer = tf.keras.optimizers.Adam()\n",
    "loss = tf.keras.losses.SparseCategoricalCrossentropy(\n",
    "    from_logits=True,\n",
    "    reduction='none'\n",
    ")\n",
    "\n",
    "model.compile(loss=loss, optimizer=optimizer)\n",
    "model.fit(dataset, epochs=10)"
   ]
  },
  {
   "cell_type": "code",
   "execution_count": null,
   "metadata": {},
   "outputs": [],
   "source": [
    "history = model.fit(enc_train, \n",
    "          dec_train, \n",
    "          epochs=10,\n",
    "          batch_size=256,\n",
    "          validation_data=(enc_val, dec_val),\n",
    "          verbose=1)"
   ]
  },
  {
   "cell_type": "code",
   "execution_count": 21,
   "metadata": {},
   "outputs": [],
   "source": [
    "def generate_text(model, tokenizer, init_sentence=\"<start>\", max_len=20):\n",
    "    # 테스트를 위해서 입력받은 init_sentence도 일단 텐서로 변환합니다.\n",
    "    test_input = tokenizer.texts_to_sequences([init_sentence])\n",
    "    test_tensor = tf.convert_to_tensor(test_input, dtype=tf.int64)\n",
    "    end_token = tokenizer.word_index[\"<end>\"]\n",
    "\n",
    "    # 텍스트를 실제로 생성할때는 루프를 돌면서 단어 하나씩 생성해야 합니다. \n",
    "    while True:\n",
    "        predict = model(test_tensor)  # 입력받은 문장의 텐서를 입력합니다. \n",
    "        predict_word = tf.argmax(tf.nn.softmax(predict, axis=-1), axis=-1)[:, -1]   # 우리 모델이 예측한 마지막 단어가 바로 새롭게 생성한 단어가 됩니다. \n",
    "\n",
    "        # 우리 모델이 새롭게 예측한 단어를 입력 문장의 뒤에 붙여 줍니다. \n",
    "        test_tensor = tf.concat([test_tensor, \n",
    "\t\t\t\t\t\t\t\t\t\t\t\t\t\t\t\t tf.expand_dims(predict_word, axis=0)], axis=-1)\n",
    "\n",
    "        # 우리 모델이 <END>를 예측했거나, max_len에 도달하지 않았다면  while 루프를 또 돌면서 다음 단어를 예측해야 합니다.\n",
    "        if predict_word.numpy()[0] == end_token: break\n",
    "        if test_tensor.shape[1] >= max_len: break\n",
    "\n",
    "    generated = \"\"\n",
    "    # 생성된 tensor 안에 있는 word index를 tokenizer.index_word 사전을 통해 실제 단어로 하나씩 변환합니다. \n",
    "    for word_index in test_tensor[0].numpy():\n",
    "        generated += tokenizer.index_word[word_index] + \" \"\n",
    "\n",
    "    return generated   # 이것이 최종적으로 모델이 생성한 자연어 문장입니다."
   ]
  },
  {
   "cell_type": "code",
   "execution_count": 23,
   "metadata": {},
   "outputs": [
    {
     "data": {
      "text/plain": [
       "'<start> i love you , liberian girl <end> '"
      ]
     },
     "execution_count": 23,
     "metadata": {},
     "output_type": "execute_result"
    }
   ],
   "source": [
    "generate_text(model, tokenizer, init_sentence=\"<start> i love\", max_len=20)"
   ]
  }
 ],
 "metadata": {
  "kernelspec": {
   "display_name": "aiffel",
   "language": "python",
   "name": "aiffel"
  },
  "language_info": {
   "codemirror_mode": {
    "name": "ipython",
    "version": 3
   },
   "file_extension": ".py",
   "mimetype": "text/x-python",
   "name": "python",
   "nbconvert_exporter": "python",
   "pygments_lexer": "ipython3",
   "version": "3.7.6"
  }
 },
 "nbformat": 4,
 "nbformat_minor": 4
}
