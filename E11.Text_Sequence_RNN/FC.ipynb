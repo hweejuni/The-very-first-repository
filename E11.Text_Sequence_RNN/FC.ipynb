{
 "cells": [
  {
   "cell_type": "markdown",
   "metadata": {},
   "source": [
    "# 데이터 다듬기"
   ]
  },
  {
   "cell_type": "code",
   "execution_count": 1,
   "metadata": {},
   "outputs": [
    {
     "name": "stdout",
     "output_type": "stream",
     "text": [
      "['First Citizen:', 'Before we proceed any further, hear me speak.', '', 'All:', 'Speak, speak.', '', 'First Citizen:', 'You are all resolved rather to die than to famish?', '']\n",
      "<class 'list'>\n"
     ]
    }
   ],
   "source": [
    "import re                  # 정규표현식을 위한 Regex 지원 모듈 (문장 데이터를 정돈하기 위해) \n",
    "import numpy as np         # 변환된 문장 데이터(행렬)을 편하게 처리하기 위해\n",
    "import tensorflow as tf    \n",
    "import os\n",
    "\n",
    "# 파일을 읽기모드로 열어 봅니다.\n",
    "file_path = os.getenv('HOME') + '/aiffel/lyricist/data/shakespeare.txt' # 셰익스피어 연극대본\n",
    "with open(file_path, \"r\") as f:\n",
    "    raw_corpus = f.read().splitlines()   # 텍스트를 라인 단위로 끊어서 list 형태로 읽어옵니다.\n",
    "\n",
    "print(raw_corpus[:9])    # 앞에서부터 10라인만 화면에 출력해 볼까요?\n",
    "print(type(raw_corpus))"
   ]
  },
  {
   "cell_type": "code",
   "execution_count": 2,
   "metadata": {},
   "outputs": [
    {
     "name": "stdout",
     "output_type": "stream",
     "text": [
      "Before we proceed any further, hear me speak.\n",
      "Speak, speak.\n",
      "You are all resolved rather to die than to famish?\n"
     ]
    }
   ],
   "source": [
    "for idx, sentence in enumerate(raw_corpus):\n",
    "    if len(sentence) == 0: continue   # 길이가 0인 문장은 건너뜁니다.\n",
    "    if sentence[-1] == \":\": continue  # 문장의 끝이 : 인 문장은 건너뜁니다.\n",
    "\n",
    "    if idx > 9: break   # 일단 문장 10개만 확인해 볼 겁니다.\n",
    "        \n",
    "    print(sentence)"
   ]
  },
  {
   "cell_type": "markdown",
   "metadata": {},
   "source": [
    "텍스트 분류 모델에서 많이 보신 것처럼 텍스트 생성 모델에도 단어 사전을 만들게 됩니다. 그렇다면 문장을 일정한 기준으로 쪼개야겠죠? 그 과정을 토큰화(Tokenize) 라고 합니다.\n",
    "가장 심플한 방법은 띄어쓰기를 기준으로 나누는 방법이고, 우리도 그 방법을 사용할 겁니다. 하지만 약간의 문제가 있을 수 있죠. 몇 가지 문제 케이스를 살펴보죠.\n",
    "\n",
    "Hi, my name is John. *(\"Hi,\" \"my\", …, \"john.\" 으로 분리됨) - 문장부호\n",
    "\n",
    "First, open the first chapter. *(First와 first를 다른 단어로 인식) - 대소문자\n",
    "\n",
    "He is a ten-year-old boy. *(ten-year-old를 한 단어로 인식) - 특수문자\n",
    "\n",
    "\"1.\" 을 막기 위해 문장 부호 양쪽에 공백을 추가 할 거고요, \"2.\" 를 막기 위해 모든 문자들을 소문자로 변환할 겁니다. \"3.\"을 막기 위해 특수문자들은 모두 제거하도록 하죠!"
   ]
  },
  {
   "cell_type": "code",
   "execution_count": 3,
   "metadata": {},
   "outputs": [
    {
     "name": "stdout",
     "output_type": "stream",
     "text": [
      "<start> this is sample sentence . <end>\n"
     ]
    }
   ],
   "source": [
    "def preprocess_sentence(sentence):\n",
    "    sentence = sentence.lower().strip()       # 소문자로 바꾸고 양쪽 공백을 삭제\n",
    "  \n",
    "    # 아래 3단계를 거쳐 sentence는 스페이스 1개를 delimeter로 하는 소문자 단어 시퀀스로 바뀝니다.\n",
    "    sentence = re.sub(r\"([?.!,¿])\", r\" \\1 \", sentence)        # 패턴의 특수문자를 만나면 특수문자 양쪽에 공백을 추가\n",
    "    sentence = re.sub(r'[\" \"]+', \" \", sentence)                  # 공백 패턴을 만나면 스페이스 1개로 치환\n",
    "    sentence = re.sub(r\"[^a-zA-Z?.!,¿]+\", \" \", sentence)  # a-zA-Z?.!,¿ 패턴을 제외한 모든 문자(공백문자까지도)를 스페이스 1개로 치환\n",
    "\n",
    "    sentence = sentence.strip()\n",
    "\n",
    "    sentence = '<start> ' + sentence + ' <end>'      # 이전 스텝에서 본 것처럼 문장 앞뒤로 <start>와 <end>를 단어처럼 붙여 줍니다\n",
    "    \n",
    "    return sentence\n",
    "\n",
    "print(preprocess_sentence(\"This @_is ;;;sample        sentence.\"))   # 이 문장이 어떻게 필터링되는지 확인해 보세요."
   ]
  },
  {
   "cell_type": "code",
   "execution_count": 4,
   "metadata": {},
   "outputs": [
    {
     "data": {
      "text/plain": [
       "['<start> before we proceed any further , hear me speak . <end>',\n",
       " '<start> speak , speak . <end>',\n",
       " '<start> you are all resolved rather to die than to famish ? <end>',\n",
       " '<start> resolved . resolved . <end>',\n",
       " '<start> first , you know caius marcius is chief enemy to the people . <end>',\n",
       " '<start> we know t , we know t . <end>',\n",
       " '<start> let us kill him , and we ll have corn at our own price . <end>',\n",
       " '<start> is t a verdict ? <end>',\n",
       " '<start> no more talking on t let it be done away , away ! <end>',\n",
       " '<start> one word , good citizens . <end>']"
      ]
     },
     "execution_count": 4,
     "metadata": {},
     "output_type": "execute_result"
    }
   ],
   "source": [
    "corpus = []\n",
    "\n",
    "for sentence in raw_corpus:\n",
    "    if len(sentence) == 0: continue\n",
    "    if sentence[-1] == \":\": continue\n",
    "        \n",
    "    corpus.append(preprocess_sentence(sentence))\n",
    "        \n",
    "corpus[:10]"
   ]
  },
  {
   "cell_type": "markdown",
   "metadata": {},
   "source": [
    "텐서플로우는 자연어 처리를 위한 여러 가지 모듈을 제공하는데, 우리도 그 모듈을 십분 활용할 겁니다! 아래에서 활용하게 될 tf.keras.preprocessing.text.Tokenizer 패키지는 정제된 데이터를 토큰화하고, 단어 사전(vocabulary 또는 dictionary라고 칭함)을 만들어주며, 데이터를 숫자로 변환까지 한 방에 해줍니다. 이 과정을 벡터화(vectorize) 라 하며, 숫자로 변환된 데이터를 텐서(tensor) 라고 칭합니다. 우리가 사용하는 텐서플로우로 만든 모델의 입출력 데이터는 실제로는 모두 이런 텐서로 변환되어 처리되는 것입니다."
   ]
  },
  {
   "cell_type": "code",
   "execution_count": 5,
   "metadata": {},
   "outputs": [
    {
     "name": "stdout",
     "output_type": "stream",
     "text": [
      "[[   2  143   40 ...    0    0    0]\n",
      " [   2  110    4 ...    0    0    0]\n",
      " [   2   11   50 ...    0    0    0]\n",
      " ...\n",
      " [   2  149 4553 ...    0    0    0]\n",
      " [   2   34   71 ...    0    0    0]\n",
      " [   2  945   34 ...    0    0    0]] <keras_preprocessing.text.Tokenizer object at 0x7f96af81f7d0>\n"
     ]
    }
   ],
   "source": [
    "def tokenize(corpus):\n",
    "    # 텐서플로우에서 제공하는 Tokenizer 패키지를 생성\n",
    "    tokenizer = tf.keras.preprocessing.text.Tokenizer(\n",
    "        num_words=7000,  # 전체 단어의 개수 \n",
    "        filters=' ',    # 별도로 전처리 로직을 추가할 수 있습니다. 이번에는 사용하지 않겠습니다.\n",
    "        oov_token=\"<unk>\"  # out-of-vocabulary, 사전에 없었던 단어는 어떤 토큰으로 대체할지\n",
    "    )\n",
    "    tokenizer.fit_on_texts(corpus)   # 우리가 구축한 corpus로부터 Tokenizer가 사전을 자동구축하게 됩니다.\n",
    "\n",
    "    # 이후 tokenizer를 활용하여 모델에 입력할 데이터셋을 구축하게 됩니다.\n",
    "    tensor = tokenizer.texts_to_sequences(corpus)   # tokenizer는 구축한 사전으로부터 corpus를 해석해 Tensor로 변환합니다.\n",
    "\n",
    "    # 입력 데이터의 시퀀스 길이를 일정하게 맞추기 위한 padding  메소드를 제공합니다.\n",
    "    # maxlen의 디폴트값은 None입니다. 이 경우 corpus의 가장 긴 문장을 기준으로 시퀀스 길이가 맞춰집니다.\n",
    "    tensor = tf.keras.preprocessing.sequence.pad_sequences(tensor, padding='post')  \n",
    "\n",
    "    print(tensor,tokenizer)\n",
    "    return tensor, tokenizer\n",
    "\n",
    "tensor, tokenizer = tokenize(corpus)"
   ]
  },
  {
   "cell_type": "code",
   "execution_count": 6,
   "metadata": {},
   "outputs": [
    {
     "name": "stdout",
     "output_type": "stream",
     "text": [
      "[[   2  143   40  933  140  591    4  124   24  110]\n",
      " [   2  110    4  110    5    3    0    0    0    0]\n",
      " [   2   11   50   43 1201  316    9  201   74    9]]\n"
     ]
    }
   ],
   "source": [
    "print(tensor[:3, :10])"
   ]
  },
  {
   "cell_type": "code",
   "execution_count": 7,
   "metadata": {},
   "outputs": [
    {
     "name": "stdout",
     "output_type": "stream",
     "text": [
      "1 : <unk>\n",
      "2 : <start>\n",
      "3 : <end>\n",
      "4 : ,\n",
      "5 : .\n",
      "6 : the\n",
      "7 : and\n",
      "8 : i\n",
      "9 : to\n",
      "10 : of\n"
     ]
    }
   ],
   "source": [
    "# tokenizer에 구축된 단어 사전의 인덱스 확인\n",
    "for idx in tokenizer.index_word:\n",
    "    print(idx, \":\", tokenizer.index_word[idx])\n",
    "\n",
    "    if idx >= 10: break"
   ]
  },
  {
   "cell_type": "code",
   "execution_count": 2,
   "metadata": {},
   "outputs": [
    {
     "ename": "NameError",
     "evalue": "name 'tensor' is not defined",
     "output_type": "error",
     "traceback": [
      "\u001b[0;31m---------------------------------------------------------------------------\u001b[0m",
      "\u001b[0;31mNameError\u001b[0m                                 Traceback (most recent call last)",
      "\u001b[0;32m<ipython-input-2-f14fa32cffd3>\u001b[0m in \u001b[0;36m<module>\u001b[0;34m\u001b[0m\n\u001b[0;32m----> 1\u001b[0;31m \u001b[0msrc_input\u001b[0m \u001b[0;34m=\u001b[0m \u001b[0mtensor\u001b[0m\u001b[0;34m[\u001b[0m\u001b[0;34m:\u001b[0m\u001b[0;34m,\u001b[0m \u001b[0;34m:\u001b[0m\u001b[0;34m-\u001b[0m\u001b[0;36m1\u001b[0m\u001b[0;34m]\u001b[0m  \u001b[0;31m# tensor에서 마지막 토큰을 잘라내서 소스 문장을 생성합니다. 마지막 토큰은 <END>가 아니라 <pad>일 가능성이 높습니다.\u001b[0m\u001b[0;34m\u001b[0m\u001b[0;34m\u001b[0m\u001b[0m\n\u001b[0m\u001b[1;32m      2\u001b[0m \u001b[0mtgt_input\u001b[0m \u001b[0;34m=\u001b[0m \u001b[0mtensor\u001b[0m\u001b[0;34m[\u001b[0m\u001b[0;34m:\u001b[0m\u001b[0;34m,\u001b[0m \u001b[0;36m1\u001b[0m\u001b[0;34m:\u001b[0m\u001b[0;34m]\u001b[0m    \u001b[0;31m# tensor에서 <START>를 잘라내서 타겟 문장을 생성합니다.\u001b[0m\u001b[0;34m\u001b[0m\u001b[0;34m\u001b[0m\u001b[0m\n\u001b[1;32m      3\u001b[0m \u001b[0;34m\u001b[0m\u001b[0m\n\u001b[1;32m      4\u001b[0m \u001b[0mprint\u001b[0m\u001b[0;34m(\u001b[0m\u001b[0msrc_input\u001b[0m\u001b[0;34m[\u001b[0m\u001b[0;36m0\u001b[0m\u001b[0;34m]\u001b[0m\u001b[0;34m)\u001b[0m\u001b[0;34m\u001b[0m\u001b[0;34m\u001b[0m\u001b[0m\n\u001b[1;32m      5\u001b[0m \u001b[0mprint\u001b[0m\u001b[0;34m(\u001b[0m\u001b[0mtgt_input\u001b[0m\u001b[0;34m[\u001b[0m\u001b[0;36m0\u001b[0m\u001b[0;34m]\u001b[0m\u001b[0;34m)\u001b[0m\u001b[0;34m\u001b[0m\u001b[0;34m\u001b[0m\u001b[0m\n",
      "\u001b[0;31mNameError\u001b[0m: name 'tensor' is not defined"
     ]
    }
   ],
   "source": [
    "src_input = tensor[:, :-1]  # tensor에서 마지막 토큰을 잘라내서 소스 문장을 생성합니다. 마지막 토큰은 <END>가 아니라 <pad>일 가능성이 높습니다.\n",
    "tgt_input = tensor[:, 1:]    # tensor에서 <START>를 잘라내서 타겟 문장을 생성합니다.\n",
    "\n",
    "print(src_input[0])\n",
    "print(tgt_input[0])"
   ]
  },
  {
   "cell_type": "markdown",
   "metadata": {},
   "source": [
    "tf.data.Dataset객체는 텐서플로우에서 사용할 경우 데이터 입력 파이프라인을 통한 속도 개선 및 각종 편의기능을 제공하므로 꼭 사용법을 알아 두시기를 권합니다. "
   ]
  },
  {
   "cell_type": "code",
   "execution_count": 9,
   "metadata": {},
   "outputs": [
    {
     "data": {
      "text/plain": [
       "<BatchDataset shapes: ((256, 20), (256, 20)), types: (tf.int32, tf.int32)>"
      ]
     },
     "execution_count": 9,
     "metadata": {},
     "output_type": "execute_result"
    }
   ],
   "source": [
    "BUFFER_SIZE = len(src_input)\n",
    "BATCH_SIZE = 256\n",
    "steps_per_epoch = len(src_input) // BATCH_SIZE\n",
    "\n",
    "VOCAB_SIZE = tokenizer.num_words + 1    # tokenizer가 구축한 단어사전 내 7000개와, 여기 포함되지 않은 0:<pad>를 포함하여 7001개\n",
    "\n",
    "dataset = tf.data.Dataset.from_tensor_slices((src_input, tgt_input)).shuffle(BUFFER_SIZE)\n",
    "dataset = dataset.batch(BATCH_SIZE, drop_remainder=True)\n",
    "dataset"
   ]
  },
  {
   "cell_type": "markdown",
   "metadata": {},
   "source": [
    "# 모델"
   ]
  },
  {
   "cell_type": "code",
   "execution_count": 10,
   "metadata": {},
   "outputs": [],
   "source": [
    "class TextGenerator(tf.keras.Model):\n",
    "    def __init__(self, vocab_size, embedding_size, hidden_size):\n",
    "        super(TextGenerator, self).__init__()\n",
    "        \n",
    "        self.embedding = tf.keras.layers.Embedding(vocab_size, embedding_size)\n",
    "        self.rnn_1 = tf.keras.layers.LSTM(hidden_size, return_sequences=True)\n",
    "        self.rnn_2 = tf.keras.layers.LSTM(hidden_size, return_sequences=True)\n",
    "        self.linear = tf.keras.layers.Dense(vocab_size)\n",
    "        \n",
    "    def call(self, x):\n",
    "        out = self.embedding(x)\n",
    "        out = self.rnn_1(out)\n",
    "        out = self.rnn_2(out)\n",
    "        out = self.linear(out)\n",
    "        \n",
    "        return out\n",
    "    \n",
    "embedding_size = 256\n",
    "hidden_size = 1024\n",
    "model = TextGenerator(tokenizer.num_words + 1, embedding_size , hidden_size)"
   ]
  },
  {
   "cell_type": "code",
   "execution_count": 11,
   "metadata": {},
   "outputs": [
    {
     "data": {
      "text/plain": [
       "<tf.Tensor: shape=(256, 20, 7001), dtype=float32, numpy=\n",
       "array([[[ 1.4909086e-04,  9.8034354e-05, -4.4457952e-06, ...,\n",
       "         -3.3363205e-05, -1.9903788e-04,  2.3204820e-04],\n",
       "        [ 2.9469008e-04, -9.7479984e-05,  1.4393187e-04, ...,\n",
       "         -1.7233395e-04, -6.1895413e-04,  1.9551795e-04],\n",
       "        [ 6.1363081e-04, -2.5851649e-04,  5.4483162e-04, ...,\n",
       "         -1.0204710e-04, -1.2829738e-03,  3.3442199e-04],\n",
       "        ...,\n",
       "        [ 5.6378398e-04,  8.6124390e-05,  1.0205028e-03, ...,\n",
       "          5.3917221e-04, -3.9098999e-03,  1.3400736e-03],\n",
       "        [ 6.0514623e-04,  4.5747252e-04,  1.0967739e-03, ...,\n",
       "          7.8900415e-04, -4.0534222e-03,  1.4014767e-03],\n",
       "        [ 6.7899382e-04,  8.2379952e-04,  1.2280239e-03, ...,\n",
       "          1.0587422e-03, -4.1696490e-03,  1.4685831e-03]],\n",
       "\n",
       "       [[ 1.4909086e-04,  9.8034354e-05, -4.4457952e-06, ...,\n",
       "         -3.3363205e-05, -1.9903788e-04,  2.3204820e-04],\n",
       "        [-9.6264317e-05, -6.5930137e-05,  4.0308456e-04, ...,\n",
       "         -4.4799843e-04, -5.1762664e-04,  4.1306901e-04],\n",
       "        [-4.4875866e-04, -2.1419110e-04,  6.9423870e-04, ...,\n",
       "         -7.6136651e-04, -6.6639722e-04,  4.5990423e-04],\n",
       "        ...,\n",
       "        [ 5.3648296e-04,  2.2708587e-03,  1.8660809e-03, ...,\n",
       "          2.0761364e-03, -3.4283311e-03,  1.8438105e-03],\n",
       "        [ 7.0741243e-04,  2.3718062e-03,  2.1091998e-03, ...,\n",
       "          2.3451445e-03, -3.6197335e-03,  1.8349579e-03],\n",
       "        [ 8.6730666e-04,  2.4346209e-03,  2.3352464e-03, ...,\n",
       "          2.5913608e-03, -3.7683097e-03,  1.8253046e-03]],\n",
       "\n",
       "       [[ 1.4909086e-04,  9.8034354e-05, -4.4457952e-06, ...,\n",
       "         -3.3363205e-05, -1.9903788e-04,  2.3204820e-04],\n",
       "        [ 8.7363325e-05,  1.8499262e-04,  4.9729162e-04, ...,\n",
       "         -1.8869175e-04, -4.9443950e-04,  1.7824497e-04],\n",
       "        [ 1.1205499e-04,  3.6991292e-04,  6.7278871e-04, ...,\n",
       "         -3.9573805e-04, -9.8799076e-04,  1.2784731e-04],\n",
       "        ...,\n",
       "        [ 9.8147560e-05,  1.7829428e-03,  1.4479959e-03, ...,\n",
       "          1.3050321e-03, -3.6632484e-03,  1.4202489e-03],\n",
       "        [ 2.9965868e-04,  1.9950469e-03,  1.7366949e-03, ...,\n",
       "          1.6230677e-03, -3.8427012e-03,  1.4955269e-03],\n",
       "        [ 4.9489783e-04,  2.1505118e-03,  2.0092488e-03, ...,\n",
       "          1.9257773e-03, -3.9758314e-03,  1.5571170e-03]],\n",
       "\n",
       "       ...,\n",
       "\n",
       "       [[ 1.4909086e-04,  9.8034354e-05, -4.4457952e-06, ...,\n",
       "         -3.3363205e-05, -1.9903788e-04,  2.3204820e-04],\n",
       "        [ 3.9069986e-04,  7.6503100e-05, -1.1729271e-04, ...,\n",
       "         -2.1520555e-04, -4.0766757e-04,  1.0197787e-04],\n",
       "        [ 4.4177062e-04,  7.2213629e-06,  3.3411106e-05, ...,\n",
       "         -3.5851399e-04, -4.4423380e-04,  9.7482225e-05],\n",
       "        ...,\n",
       "        [-5.3628810e-06,  5.1830854e-04, -2.1273887e-04, ...,\n",
       "          5.3554075e-04, -2.7958681e-03,  5.2225823e-04],\n",
       "        [ 2.2776978e-04,  9.3804940e-04,  2.1668455e-04, ...,\n",
       "          9.2182594e-04, -3.1097771e-03,  7.4172206e-04],\n",
       "        [ 4.4868069e-04,  1.2952040e-03,  6.4542179e-04, ...,\n",
       "          1.2905790e-03, -3.3578966e-03,  9.3690399e-04]],\n",
       "\n",
       "       [[ 1.4909086e-04,  9.8034354e-05, -4.4457952e-06, ...,\n",
       "         -3.3363205e-05, -1.9903788e-04,  2.3204820e-04],\n",
       "        [ 8.7363325e-05,  1.8499262e-04,  4.9729162e-04, ...,\n",
       "         -1.8869175e-04, -4.9443950e-04,  1.7824497e-04],\n",
       "        [ 5.9415669e-08,  4.8783701e-04,  6.3781615e-04, ...,\n",
       "         -4.5499772e-05, -5.7434227e-04,  1.2678778e-04],\n",
       "        ...,\n",
       "        [ 8.4489759e-04,  2.3093009e-03,  1.1539174e-03, ...,\n",
       "          1.7733241e-03, -3.2939008e-03,  1.2456641e-03],\n",
       "        [ 1.0019805e-03,  2.4441385e-03,  1.4642313e-03, ...,\n",
       "          2.0481779e-03, -3.5244166e-03,  1.3518300e-03],\n",
       "        [ 1.1482474e-03,  2.5381378e-03,  1.7566821e-03, ...,\n",
       "          2.3069701e-03, -3.7109856e-03,  1.4446103e-03]],\n",
       "\n",
       "       [[ 1.4909086e-04,  9.8034354e-05, -4.4457952e-06, ...,\n",
       "         -3.3363205e-05, -1.9903788e-04,  2.3204820e-04],\n",
       "        [ 6.9889633e-05,  1.7971061e-04, -3.4119800e-04, ...,\n",
       "         -5.4356013e-04, -3.3333694e-04,  3.1977289e-04],\n",
       "        [ 1.7387647e-04,  3.5395997e-04, -4.7207379e-04, ...,\n",
       "         -1.0227640e-03, -3.5885625e-04,  4.1776660e-04],\n",
       "        ...,\n",
       "        [ 8.8584959e-04,  1.9808309e-03,  9.8207232e-04, ...,\n",
       "          2.0920569e-03, -3.9733700e-03,  1.0974685e-03],\n",
       "        [ 1.0098785e-03,  2.1251829e-03,  1.3174511e-03, ...,\n",
       "          2.3869262e-03, -4.0765568e-03,  1.2217842e-03],\n",
       "        [ 1.1279831e-03,  2.2352049e-03,  1.6274202e-03, ...,\n",
       "          2.6504577e-03, -4.1460758e-03,  1.3299048e-03]]], dtype=float32)>"
      ]
     },
     "execution_count": 11,
     "metadata": {},
     "output_type": "execute_result"
    }
   ],
   "source": [
    "# model의 input shape가 결정되면서 model.build()가 자동으로 호출됩니다.\n",
    "for src_sample, tgt_sample in dataset.take(1): break\n",
    "model(src_sample)"
   ]
  },
  {
   "cell_type": "code",
   "execution_count": 12,
   "metadata": {},
   "outputs": [
    {
     "name": "stdout",
     "output_type": "stream",
     "text": [
      "Model: \"text_generator\"\n",
      "_________________________________________________________________\n",
      "Layer (type)                 Output Shape              Param #   \n",
      "=================================================================\n",
      "embedding (Embedding)        multiple                  1792256   \n",
      "_________________________________________________________________\n",
      "lstm (LSTM)                  multiple                  5246976   \n",
      "_________________________________________________________________\n",
      "lstm_1 (LSTM)                multiple                  8392704   \n",
      "_________________________________________________________________\n",
      "dense (Dense)                multiple                  7176025   \n",
      "=================================================================\n",
      "Total params: 22,607,961\n",
      "Trainable params: 22,607,961\n",
      "Non-trainable params: 0\n",
      "_________________________________________________________________\n"
     ]
    }
   ],
   "source": [
    "model.summary()"
   ]
  },
  {
   "cell_type": "code",
   "execution_count": 13,
   "metadata": {},
   "outputs": [
    {
     "name": "stdout",
     "output_type": "stream",
     "text": [
      "Epoch 1/30\n",
      "93/93 [==============================] - 14s 152ms/step - loss: 3.4588\n",
      "Epoch 2/30\n",
      "93/93 [==============================] - 14s 153ms/step - loss: 2.8000\n",
      "Epoch 3/30\n",
      "93/93 [==============================] - 14s 153ms/step - loss: 2.7008\n",
      "Epoch 4/30\n",
      "93/93 [==============================] - 14s 155ms/step - loss: 2.6023\n",
      "Epoch 5/30\n",
      "93/93 [==============================] - 14s 154ms/step - loss: 2.5376\n",
      "Epoch 6/30\n",
      "93/93 [==============================] - 14s 154ms/step - loss: 2.4847\n",
      "Epoch 7/30\n",
      "93/93 [==============================] - 14s 154ms/step - loss: 2.4339\n",
      "Epoch 8/30\n",
      "93/93 [==============================] - 14s 155ms/step - loss: 2.3851\n",
      "Epoch 9/30\n",
      "93/93 [==============================] - 14s 149ms/step - loss: 2.3340\n",
      "Epoch 10/30\n",
      "93/93 [==============================] - 13s 138ms/step - loss: 2.2866\n",
      "Epoch 11/30\n",
      "93/93 [==============================] - 13s 135ms/step - loss: 2.2406\n",
      "Epoch 12/30\n",
      "93/93 [==============================] - 12s 133ms/step - loss: 2.1948\n",
      "Epoch 13/30\n",
      "93/93 [==============================] - 13s 142ms/step - loss: 2.1513\n",
      "Epoch 14/30\n",
      "93/93 [==============================] - 15s 156ms/step - loss: 2.1066\n",
      "Epoch 15/30\n",
      "93/93 [==============================] - 14s 154ms/step - loss: 2.0632\n",
      "Epoch 16/30\n",
      "93/93 [==============================] - 14s 154ms/step - loss: 2.0186\n",
      "Epoch 17/30\n",
      "93/93 [==============================] - 14s 154ms/step - loss: 1.9756\n",
      "Epoch 18/30\n",
      "93/93 [==============================] - 13s 143ms/step - loss: 1.9317\n",
      "Epoch 19/30\n",
      "93/93 [==============================] - 13s 141ms/step - loss: 1.8871\n",
      "Epoch 20/30\n",
      "93/93 [==============================] - 13s 137ms/step - loss: 1.8436\n",
      "Epoch 21/30\n",
      "93/93 [==============================] - 13s 143ms/step - loss: 1.8001\n",
      "Epoch 22/30\n",
      "93/93 [==============================] - 13s 140ms/step - loss: 1.7554\n",
      "Epoch 23/30\n",
      "93/93 [==============================] - 13s 141ms/step - loss: 1.7102\n",
      "Epoch 24/30\n",
      "93/93 [==============================] - 13s 141ms/step - loss: 1.6663\n",
      "Epoch 25/30\n",
      "93/93 [==============================] - 12s 133ms/step - loss: 1.6231\n",
      "Epoch 26/30\n",
      "93/93 [==============================] - 13s 136ms/step - loss: 1.5792\n",
      "Epoch 27/30\n",
      "93/93 [==============================] - 13s 138ms/step - loss: 1.5357\n",
      "Epoch 28/30\n",
      "93/93 [==============================] - 13s 136ms/step - loss: 1.4893\n",
      "Epoch 29/30\n",
      "93/93 [==============================] - 12s 134ms/step - loss: 1.4444\n",
      "Epoch 30/30\n",
      "93/93 [==============================] - 12s 131ms/step - loss: 1.3993\n"
     ]
    },
    {
     "data": {
      "text/plain": [
       "<tensorflow.python.keras.callbacks.History at 0x7f96afb056d0>"
      ]
     },
     "execution_count": 13,
     "metadata": {},
     "output_type": "execute_result"
    }
   ],
   "source": [
    "optimizer = tf.keras.optimizers.Adam()\n",
    "loss = tf.keras.losses.SparseCategoricalCrossentropy(\n",
    "    from_logits=True,\n",
    "    reduction='none'\n",
    ")\n",
    "\n",
    "model.compile(loss=loss, optimizer=optimizer)\n",
    "model.fit(dataset, epochs=30)"
   ]
  },
  {
   "cell_type": "markdown",
   "metadata": {},
   "source": [
    "# 평가"
   ]
  },
  {
   "cell_type": "code",
   "execution_count": 14,
   "metadata": {},
   "outputs": [],
   "source": [
    "def generate_text(model, tokenizer, init_sentence=\"<start>\", max_len=20):\n",
    "    # 테스트를 위해서 입력받은 init_sentence도 일단 텐서로 변환합니다.\n",
    "    test_input = tokenizer.texts_to_sequences([init_sentence])\n",
    "    test_tensor = tf.convert_to_tensor(test_input, dtype=tf.int64)\n",
    "    end_token = tokenizer.word_index[\"<end>\"]\n",
    "\n",
    "    # 텍스트를 실제로 생성할때는 루프를 돌면서 단어 하나씩 생성해야 합니다. \n",
    "    while True:\n",
    "        predict = model(test_tensor)  # 입력받은 문장의 텐서를 입력합니다. \n",
    "        predict_word = tf.argmax(tf.nn.softmax(predict, axis=-1), axis=-1)[:, -1]   # 우리 모델이 예측한 마지막 단어가 바로 새롭게 생성한 단어가 됩니다. \n",
    "\n",
    "        # 우리 모델이 새롭게 예측한 단어를 입력 문장의 뒤에 붙여 줍니다. \n",
    "        test_tensor = tf.concat([test_tensor, \n",
    "\t\t\t\t\t\t\t\t\t\t\t\t\t\t\t\t tf.expand_dims(predict_word, axis=0)], axis=-1)\n",
    "\n",
    "        # 우리 모델이 <END>를 예측했거나, max_len에 도달하지 않았다면  while 루프를 또 돌면서 다음 단어를 예측해야 합니다.\n",
    "        if predict_word.numpy()[0] == end_token: break\n",
    "        if test_tensor.shape[1] >= max_len: break\n",
    "\n",
    "    generated = \"\"\n",
    "    # 생성된 tensor 안에 있는 word index를 tokenizer.index_word 사전을 통해 실제 단어로 하나씩 변환합니다. \n",
    "    for word_index in test_tensor[0].numpy():\n",
    "        generated += tokenizer.index_word[word_index] + \" \"\n",
    "\n",
    "    return generated   # 이것이 최종적으로 모델이 생성한 자연어 문장입니다."
   ]
  },
  {
   "cell_type": "code",
   "execution_count": 3,
   "metadata": {},
   "outputs": [
    {
     "ename": "NameError",
     "evalue": "name 'generate_text' is not defined",
     "output_type": "error",
     "traceback": [
      "\u001b[0;31m---------------------------------------------------------------------------\u001b[0m",
      "\u001b[0;31mNameError\u001b[0m                                 Traceback (most recent call last)",
      "\u001b[0;32m<ipython-input-3-6164e4bf4e3e>\u001b[0m in \u001b[0;36m<module>\u001b[0;34m\u001b[0m\n\u001b[0;32m----> 1\u001b[0;31m \u001b[0mgenerate_text\u001b[0m\u001b[0;34m(\u001b[0m\u001b[0mmodel\u001b[0m\u001b[0;34m,\u001b[0m \u001b[0mtokenizer\u001b[0m\u001b[0;34m,\u001b[0m \u001b[0minit_sentence\u001b[0m\u001b[0;34m=\u001b[0m\u001b[0;34m\"i love\"\u001b[0m\u001b[0;34m,\u001b[0m \u001b[0mmax_len\u001b[0m\u001b[0;34m=\u001b[0m\u001b[0;36m20\u001b[0m\u001b[0;34m)\u001b[0m\u001b[0;34m\u001b[0m\u001b[0;34m\u001b[0m\u001b[0m\n\u001b[0m",
      "\u001b[0;31mNameError\u001b[0m: name 'generate_text' is not defined"
     ]
    }
   ],
   "source": [
    "generate_text(model, tokenizer, init_sentence=\"<start> he\")"
   ]
  }
 ],
 "metadata": {
  "kernelspec": {
   "display_name": "aiffel",
   "language": "python",
   "name": "aiffel"
  },
  "language_info": {
   "codemirror_mode": {
    "name": "ipython",
    "version": 3
   },
   "file_extension": ".py",
   "mimetype": "text/x-python",
   "name": "python",
   "nbconvert_exporter": "python",
   "pygments_lexer": "ipython3",
   "version": "3.7.6"
  }
 },
 "nbformat": 4,
 "nbformat_minor": 4
}
