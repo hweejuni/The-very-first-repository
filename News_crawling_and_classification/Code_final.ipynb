{
 "cells": [
  {
   "cell_type": "code",
   "execution_count": 36,
   "metadata": {},
   "outputs": [],
   "source": [
    "import requests\n",
    "import pandas as pd\n",
    "from bs4 import BeautifulSoup\n",
    "import os\n",
    "from newspaper import Article\n",
    "from konlpy.tag import Hannanum,Kkma,Komoran,Mecab,Okt\n",
    "from sklearn.model_selection import train_test_split\n",
    "from sklearn.feature_extraction.text import CountVectorizer\n",
    "from sklearn.feature_extraction.text import TfidfTransformer\n",
    "from sklearn.naive_bayes import MultinomialNB\n",
    "from sklearn import metrics"
   ]
  },
  {
   "cell_type": "code",
   "execution_count": 8,
   "metadata": {},
   "outputs": [],
   "source": [
    "# Takes page number, category, and date as input. \n",
    "# 100 : Politics, 101 :Economics, 102' : 'Society, 103: Lifestyle/Culture, 104 : Worldwise, 105 : IT/Science, 110 : Opinion\n",
    "\n",
    "def make_urllist(page_num, code, date): \n",
    "  urllist= []\n",
    "  for i in range(1, page_num + 1):\n",
    "    url = 'https://news.naver.com/main/list.nhn?mode=LSD&mid=sec&sid1='+str(code)+'&date='+str(date)+'&page='+str(i)   \n",
    "    news = requests.get(url)\n",
    "\n",
    "    # Create BeautifulSoup instance with html.parser.\n",
    "    soup = BeautifulSoup(news.content, 'html.parser')\n",
    "\n",
    "    # CASE 1\n",
    "    news_list = soup.select('.newsflash_body .type06_headline li dl')\n",
    "    # CASE 2\n",
    "    news_list.extend(soup.select('.newsflash_body .type06 li dl'))\n",
    "        \n",
    "    # Retrieve address from <a href ='address'> \n",
    "    for line in news_list:\n",
    "        urllist.append(line.a.get('href'))\n",
    "  return urllist"
   ]
  },
  {
   "cell_type": "code",
   "execution_count": 13,
   "metadata": {},
   "outputs": [],
   "source": [
    "# This is a function that generates dataframe.\n",
    "def make_data(urllist, code):\n",
    "  text_list = []\n",
    "  for url in urllist:\n",
    "    article = Article(url, language='ko')\n",
    "    article.download()\n",
    "    article.parse()\n",
    "    text_list.append(article.text)\n",
    "\n",
    "  #- Set values to the text under the key 'news' in the dataframe.\n",
    "  df = pd.DataFrame({'news': text_list})\n",
    "\n",
    "  #- Put category names under the key 'code' in the dataframe.\n",
    "  df['code'] = idx2word[str(code)]\n",
    "  return df"
   ]
  },
  {
   "cell_type": "code",
   "execution_count": 2,
   "metadata": {},
   "outputs": [],
   "source": [
    "idx2word = {'101' : 'Economics', '102' : 'Society', '103' : 'Lifestyle/Culture', '105' : 'IT/Science'}\n",
    "code_list = [102, 103, 105]"
   ]
  },
  {
   "cell_type": "code",
   "execution_count": 3,
   "metadata": {},
   "outputs": [],
   "source": [
    "def make_total_data(page_num, code_list, date):\n",
    "  df = None\n",
    "\n",
    "  for code in code_list:\n",
    "    url_list = make_urllist(page_num, code, date)\n",
    "    df_temp = make_data(url_list, code)\n",
    "    print('Code '+str(code)+' is processed to data')\n",
    "\n",
    "    if df is not None:\n",
    "      df = pd.concat([df, df_temp])\n",
    "    else:\n",
    "      df = df_temp\n",
    "\n",
    "  return df"
   ]
  },
  {
   "cell_type": "code",
   "execution_count": 14,
   "metadata": {},
   "outputs": [
    {
     "name": "stdout",
     "output_type": "stream",
     "text": [
      "Code 102 is processed to data\n",
      "Code 103 is processed to data\n",
      "Code 105 is processed to data\n"
     ]
    }
   ],
   "source": [
    "df = make_total_data(1, code_list, 20200802) # 20 news per page, so 60 news in total."
   ]
  },
  {
   "cell_type": "code",
   "execution_count": 50,
   "metadata": {},
   "outputs": [
    {
     "name": "stdout",
     "output_type": "stream",
     "text": [
      "0       파주시청. 사진제공=파주시 파주시청. 사진제공=파주시\\n\\n[파주=파이낸셜뉴스 강근...\n",
      "1       동영상 뉴스\\n\\n이천 물류창고 화재 발화지점으로 지목된 지하 2층에서 산소절단기의...\n",
      "2       황범순 의정부시 부시장 을지대학교 의정부캠퍼스 및 부속병원 공사현장 안전점검. 사진...\n",
      "3       귀갓길 여성을 쫓아가 성범죄를 시도한 20대 남성이 구속됐습니다.서울 강남경찰서는 ...\n",
      "4       (서울=연합뉴스) 대한약사회가 6일부터 코로나바이러스 감염증 대응 체계를 '사회적 ...\n",
      "                              ...                        \n",
      "5119    신종 코로나바이러스 감염증(코로나19) 사태 이후 ‘가정의 달’ 5월에도 언택트(비...\n",
      "5120    는 소비자로부터 월 이용료 1만~2만원을 받고 초고속 인터넷을 제공한다. 그런 SK...\n",
      "5121    머리를 긁고 있는 오랑우탄. 몸을 긁는 행동을 따라 하는 것은 부정적 감정과 관련이...\n",
      "5122    가 오는 15일 정식 출시하는 스마트폰 'LG벨벳'이 사실상 '공짜폰'이 될 전망이...\n",
      "5123    이미지제공=게티이미지뱅크 이미지제공=게티이미지뱅크\\n\\n[Copyright ⓒ 전자...\n",
      "Name: news, Length: 5124, dtype: object\n"
     ]
    }
   ],
   "source": [
    "csv_path = os.getenv(\"HOME\") + \"/aiffel/news_crawler/news_data.csv\"\n",
    "df = pd.read_table(csv_path, sep=',')\n",
    "#df.tail(10)\n",
    "print(df['news'])"
   ]
  },
  {
   "cell_type": "code",
   "execution_count": 16,
   "metadata": {},
   "outputs": [],
   "source": [
    "df['news'] = df['news'].str.replace(\"[^ㄱ-ㅎㅏ-ㅣ가-힣 ]\",\"\") # Remove characters other than Korean using regular expression. "
   ]
  },
  {
   "cell_type": "code",
   "execution_count": 17,
   "metadata": {},
   "outputs": [
    {
     "name": "stdout",
     "output_type": "stream",
     "text": [
      "news    0\n",
      "code    0\n",
      "dtype: int64\n"
     ]
    }
   ],
   "source": [
    "# Check if null data is in the sample.\n",
    "print(df.isnull().sum())"
   ]
  },
  {
   "cell_type": "code",
   "execution_count": 18,
   "metadata": {},
   "outputs": [
    {
     "name": "stdout",
     "output_type": "stream",
     "text": [
      "Number of news after removal process:  3994\n"
     ]
    }
   ],
   "source": [
    "# Remove every duplicated sample.\n",
    "df.drop_duplicates(subset=['news'], inplace=True)\n",
    "print('Number of news after removal process: ',len(df))"
   ]
  },
  {
   "cell_type": "code",
   "execution_count": 19,
   "metadata": {},
   "outputs": [
    {
     "name": "stdout",
     "output_type": "stream",
     "text": [
      "                code  count\n",
      "0         IT/Science    903\n",
      "1  Lifestyle/Culture   1423\n",
      "2            Society   1668\n"
     ]
    },
    {
     "data": {
      "image/png": "[encoded data removed]",
      "text/plain": [
       "<Figure size 432x288 with 1 Axes>"
      ]
     },
     "metadata": {
      "needs_background": "light"
     },
     "output_type": "display_data"
    }
   ],
   "source": [
    "df['code'].value_counts().plot(kind = 'bar')\n",
    "print(df.groupby('code').size().reset_index(name = 'count'))"
   ]
  },
  {
   "cell_type": "code",
   "execution_count": 37,
   "metadata": {},
   "outputs": [],
   "source": [
    "tokenizer1 = Hannanum()\n",
    "tokenizer2 = Kkma()\n",
    "tokenizer3 = Komoran()\n",
    "tokenizer4 = Mecab()\n",
    "tokenizer5 = Okt()\n",
    "stopwords = ['에','는','은','을','했','에게','있','이','의','하','한','다','과','때문','할','수','무단','따른','및','금지','전재','경향신문','기자','는데','가','등','들','파이낸셜','저작','등','뉴스']"
   ]
  },
  {
   "cell_type": "code",
   "execution_count": 61,
   "metadata": {},
   "outputs": [
    {
     "name": "stdout",
     "output_type": "stream",
     "text": [
      "(5124, 2)\n"
     ]
    }
   ],
   "source": [
    "# Tokenise and discard stopwords.\n",
    "class preprocessing:\n",
    "    \n",
    "    def Hannanum(self, data):\n",
    "      text_data = []\n",
    "\n",
    "      for sentence in data:\n",
    "        temp_data = []\n",
    "        #- Tokenise\n",
    "        temp_data = tokenizer1.morphs(sentence) \n",
    "        #- discard stopwords\n",
    "        temp_data = [word for word in temp_data if not word in stopwords] \n",
    "        text_data.append(temp_data)\n",
    "\n",
    "      text_data = list(map(' '.join, text_data))\n",
    "\n",
    "      return text_data\n",
    "    \n",
    "    def Kkma(self, data):\n",
    "      text_data = []\n",
    "\n",
    "      for sentence in data:\n",
    "        temp_data = []\n",
    "        #- Tokenise\n",
    "        temp_data = tokenizer2.morphs(sentence) \n",
    "        #- discard stopwords\n",
    "        temp_data = [word for word in temp_data if not word in stopwords] \n",
    "        text_data.append(temp_data)\n",
    "\n",
    "      text_data = list(map(' '.join, text_data))\n",
    "\n",
    "      return text_data\n",
    "\n",
    "    def Komoran(self, data):\n",
    "      text_data = []\n",
    "\n",
    "      for sentence in data:\n",
    "        temp_data = []\n",
    "        #- Tokenise\n",
    "        temp_data = tokenizer3.morphs(sentence) \n",
    "        #- discard stopwords\n",
    "        temp_data = [word for word in temp_data if not word in stopwords] \n",
    "        text_data.append(temp_data)\n",
    "\n",
    "      text_data = list(map(' '.join, text_data))\n",
    "\n",
    "      return text_data\n",
    "    \n",
    "    def Mecab(self, data):\n",
    "      text_data = []\n",
    "\n",
    "      for sentence in data:\n",
    "        temp_data = []\n",
    "        #- Tokenise\n",
    "        temp_data = tokenizer4.morphs(sentence) \n",
    "        #- discard stopwords\n",
    "        temp_data = [word for word in temp_data if not word in stopwords] \n",
    "        text_data.append(temp_data)\n",
    "\n",
    "      text_data = list(map(' '.join, text_data))\n",
    "\n",
    "      return text_data\n",
    "    \n",
    "    def Okt(self, data):\n",
    "      text_data = []\n",
    "\n",
    "      for sentence in data:\n",
    "        temp_data = []\n",
    "        #- Tokenise\n",
    "        temp_data = tokenizer5.morphs(sentence) \n",
    "        #- discard stopwords\n",
    "        temp_data = [word for word in temp_data if not word in stopwords] \n",
    "        text_data.append(temp_data)\n",
    "\n",
    "      text_data = list(map(' '.join, text_data))\n",
    "\n",
    "      return text_data\n",
    "print(df.shape)"
   ]
  },
  {
   "cell_type": "code",
   "execution_count": 62,
   "metadata": {},
   "outputs": [
    {
     "name": "stdout",
     "output_type": "stream",
     "text": [
      "파주시청 . 사진제공=파주시 파주시청 . 사진제공 = 파주시 [파주=파이낸셜뉴스 강근주 기 자 ] 파 아 주 시는 4일 관내 취약계층 1만9379가구 대 어 어 정부 긴급재난지원금 입금 완료 었다 . 파주시민 받 긴급재난지원금 ‘4 ㄴ 이상 가구’ 기준 으로 87만1000원 받 게 되 며 , 3 ㄴ 가구 69만7000원 , 2 ㄴ 가구 52만3000원 , 1 ㄴ 가구 34만8000원 . 정부 발표 ㄴ 긴급재난지원금 파주시민 지급 ㄴ 금액 다르 ㄴ 이유 국비 - 지방비 부담 비율 . 파주시 이미 모든 시민 ‘경기도-파주시 재난기본소득’(1인당 각 10만원 ) 지급 하고 어 시민 국비 지원금 만 지급 며 4 ㄴ 가구 기준 으로 총 지원 금액 ‘파주시 재난기본소득’ 40만원 , ‘경기 도 재난기본소득’ 40만원 , ‘정부 긴급재난지원금’ 87만1000원 총 167만1000원 받 게 되 ㄴ다 . 취약계층 아니 ㄴ 시민 오 5월11일부터 소 지 하고 신 용 · 체크카드사 홈페이지 에서 긴급재난지원금 지원 신청 ㄹ . 세대주 가족 지원금 일괄 신청 어야 ㄴ다 . 한편 파 아 주 시는 3일 김정기 부시장 단장 으로 ‘긴급재난지원금 추진 태스크포스’ 를 구성해 긴급재난지원금 원활 게 지급 되 ㄹ 도록 지원 ㄴ다 . ※ 저작권자 ⓒ 파이낸셜뉴스 . - 재배포\n"
     ]
    }
   ],
   "source": [
    "preprocess = preprocessing()\n",
    "text_data1 = preprocess.Hannanum(df['news'])\n",
    "text_data2 = preprocess.Kkma(df['news'])\n",
    "text_data3 = preprocess.Komoran(df['news'])\n",
    "text_data4 = preprocess.Mecab(df['news'])\n",
    "text_data5 = preprocess.Okt(df['news'])\n",
    "print(text_data1[0])"
   ]
  },
  {
   "cell_type": "code",
   "execution_count": 72,
   "metadata": {},
   "outputs": [],
   "source": [
    "# Data partition\n",
    "X_train1, X_test1, y_train1, y_test1 = train_test_split(text_data1, df['code'], test_size = 0.2, random_state = 0)\n",
    "X_train2, X_test2, y_train2, y_test2 = train_test_split(text_data2, df['code'], test_size = 0.2, random_state = 0)\n",
    "X_train3, X_test3, y_train3, y_test3 = train_test_split(text_data3, df['code'], test_size = 0.2, random_state = 0)\n",
    "X_train4, X_test4, y_train4, y_test4 = train_test_split(text_data4, df['code'], test_size = 0.2, random_state = 0)\n",
    "X_train5, X_test5, y_train5, y_test5 = train_test_split(text_data5, df['code'], test_size = 0.2, random_state = 0)"
   ]
  },
  {
   "cell_type": "code",
   "execution_count": 73,
   "metadata": {},
   "outputs": [],
   "source": [
    "#- Count vectoriser which counts the number of words.(Like TF)\n",
    "count_vect = CountVectorizer()\n",
    "X_train_counts = count_vect.fit_transform(X_train)\n",
    "\n",
    "#- Receive TF-IDF from the result of count vectoriser.\n",
    "tfidf_transformer = TfidfTransformer()\n",
    "X_train_tfidf = tfidf_transformer.fit_transform(X_train_counts)\n",
    "\n",
    "\n",
    "#- Execute Naive bayes classifier.\n",
    "#- X_train : TF-IDF vector, y_train : label.\n",
    "clf = MultinomialNB().fit(X_train_tfidf, y_train)"
   ]
  },
  {
   "cell_type": "code",
   "execution_count": 74,
   "metadata": {},
   "outputs": [],
   "source": [
    "# Processing function which automatically converts into TF-IDF.\n",
    "def tfidf_vectorizer(data):\n",
    "  data_counts = count_vect.transform(data)\n",
    "  data_tfidf = tfidf_transformer.transform(data_counts)\n",
    "  return data_tfidf"
   ]
  },
  {
   "cell_type": "code",
   "execution_count": 71,
   "metadata": {},
   "outputs": [
    {
     "name": "stdout",
     "output_type": "stream",
     "text": [
      "Hannanum result:  ['Society']\n",
      "Kkma result:  ['Society']\n",
      "Komoran result:  ['Society']\n",
      "Mecab result:  ['Society']\n",
      "Okt result:  ['Society']\n"
     ]
    }
   ],
   "source": [
    "text1 = [\"민주당 일각에서 법사위의 체계·자구 심사 기능을 없애야 한다는 \\\n",
    "                           주장이 나오는 데 대해 “체계·자구 심사가 법안 지연의 수단으로 \\\n",
    "                          쓰이는 것은 바람직하지 않다”면서도 “국회를 통과하는 법안 중 위헌\\\n",
    "                          법률이 1년에 10건 넘게 나온다. 그런데 체계·자구 심사까지 없애면 매우 위험하다”고 반박했다.\"]\n",
    "Hannanum_text1 = preprocess.Hannanum(text1)\n",
    "Kkma_text1 = preprocess.Kkma(text1)\n",
    "Komoran_text1 = preprocess.Komoran(text1)\n",
    "Mecab_text1 = preprocess.Mecab(text1)\n",
    "Okt_text1 = preprocess.Okt(text1)\n",
    "\n",
    "print('Hannanum result: ', clf.predict(tfidf_vectorizer(Hannanum_text1)))\n",
    "print('Kkma result: ', clf.predict(tfidf_vectorizer(Kkma_text1)))\n",
    "print('Komoran result: ', clf.predict(tfidf_vectorizer(Komoran_text1)))\n",
    "print('Mecab result: ', clf.predict(tfidf_vectorizer(Mecab_text1)))\n",
    "print('Okt result: ', clf.predict(tfidf_vectorizer(Okt_text1)))\n",
    "\n"
   ]
  },
  {
   "cell_type": "code",
   "execution_count": 77,
   "metadata": {},
   "outputs": [
    {
     "name": "stdout",
     "output_type": "stream",
     "text": [
      "Hannanum result:  ['Lifestyle/Culture']\n",
      "Kkma result:  ['Lifestyle/Culture']\n",
      "Komoran result:  ['Lifestyle/Culture']\n",
      "Mecab result:  ['Lifestyle/Culture']\n",
      "Okt result:  ['Lifestyle/Culture']\n"
     ]
    }
   ],
   "source": [
    "text2 = preprocess.Hannanum([\"인도 로맨틱 코미디 영화 <까립까립 싱글>(2017)을 봤을 때 나는 두 눈을 의심했다. \\\n",
    "                          저 사람이 남자 주인공이라고? 노안에 가까운 이목구비와 기름때로 뭉친 파마머리와, \\\n",
    "                          대충 툭툭 던지는 말투 등 전혀 로맨틱하지 않은 외모였다. 반감이 일면서 \\\n",
    "                          ‘난 외모지상주의자가 아니다’라고 자부했던 나에 대해 회의가 들었다.\\\n",
    "                           티브이를 꺼버릴까? 다른 걸 볼까? 그런데, 이상하다. 왜 이렇게 매력 있지? 개구리와\\\n",
    "                            같이 툭 불거진 눈망울 안에는 어떤 인도 배우에게서도 느끼지 못한 \\\n",
    "                            부드러움과 선량함, 무엇보다 슬픔이 있었다. 2시간 뒤 영화가 끝나고 나는 완전히 이 배우에게 빠졌다\"])\n",
    "Hannanum_text2 = preprocess.Hannanum(text2)\n",
    "Kkma_text2 = preprocess.Kkma(text2)\n",
    "Komoran_text2 = preprocess.Komoran(text2)\n",
    "Mecab_text2 = preprocess.Mecab(text2)\n",
    "Okt_text2 = preprocess.Okt(text2)\n",
    "\n",
    "print('Hannanum result: ', clf.predict(tfidf_vectorizer(Hannanum_text2)))\n",
    "print('Kkma result: ', clf.predict(tfidf_vectorizer(Kkma_text2)))\n",
    "print('Komoran result: ', clf.predict(tfidf_vectorizer(Komoran_text2)))\n",
    "print('Mecab result: ', clf.predict(tfidf_vectorizer(Mecab_text2)))\n",
    "print('Okt result: ', clf.predict(tfidf_vectorizer(Okt_text2)))"
   ]
  },
  {
   "cell_type": "code",
   "execution_count": 79,
   "metadata": {},
   "outputs": [
    {
     "name": "stdout",
     "output_type": "stream",
     "text": [
      "Hannanum result:  ['IT/Science']\n",
      "Kkma result:  ['IT/Science']\n",
      "Komoran result:  ['IT/Science']\n",
      "Mecab result:  ['IT/Science']\n",
      "Okt result:  ['IT/Science']\n"
     ]
    }
   ],
   "source": [
    "text3 = preprocess.Hannanum([\"20분기 연속으로 적자에 시달리는 LG전자가 브랜드 이름부터 성능, 디자인까지 대대적인 변화를 \\\n",
    "                          적용한 LG 벨벳은 등장 전부터 온라인 커뮤니티를 뜨겁게 달궜다. 사용자들은 “디자인이 예쁘다”, \\\n",
    "                          “슬림하다”는 반응을 보이며 LG 벨벳에 대한 기대감을 드러냈다.\"])\n",
    "Hannanum_text3 = preprocess.Hannanum(text3)\n",
    "Kkma_text3 = preprocess.Kkma(text3)\n",
    "Komoran_text3 = preprocess.Komoran(text3)\n",
    "Mecab_text3 = preprocess.Mecab(text3)\n",
    "Okt_text3 = preprocess.Okt(text3)\n",
    "\n",
    "print('Hannanum result: ', clf.predict(tfidf_vectorizer(Hannanum_text3)))\n",
    "print('Kkma result: ', clf.predict(tfidf_vectorizer(Kkma_text3)))\n",
    "print('Komoran result: ', clf.predict(tfidf_vectorizer(Komoran_text3)))\n",
    "print('Mecab result: ', clf.predict(tfidf_vectorizer(Mecab_text3)))\n",
    "print('Okt result: ', clf.predict(tfidf_vectorizer(Okt_text3)))"
   ]
  },
  {
   "cell_type": "code",
   "execution_count": 83,
   "metadata": {},
   "outputs": [
    {
     "name": "stdout",
     "output_type": "stream",
     "text": [
      "1.Hannanum report: \n",
      "                    precision    recall  f1-score   support\n",
      "\n",
      "       IT/Science       0.92      0.86      0.89       273\n",
      "Lifestyle/Culture       0.88      0.81      0.84       336\n",
      "          Society       0.83      0.92      0.87       416\n",
      "\n",
      "         accuracy                           0.87      1025\n",
      "        macro avg       0.88      0.86      0.87      1025\n",
      "     weighted avg       0.87      0.87      0.87      1025\n",
      "\n",
      "2.Kkma report: \n",
      "                    precision    recall  f1-score   support\n",
      "\n",
      "       IT/Science       0.92      0.78      0.84       273\n",
      "Lifestyle/Culture       0.82      0.80      0.81       336\n",
      "          Society       0.80      0.90      0.85       416\n",
      "\n",
      "         accuracy                           0.84      1025\n",
      "        macro avg       0.85      0.83      0.84      1025\n",
      "     weighted avg       0.84      0.84      0.84      1025\n",
      "\n",
      "3.Komoran report: \n",
      "                    precision    recall  f1-score   support\n",
      "\n",
      "       IT/Science       0.92      0.81      0.86       273\n",
      "Lifestyle/Culture       0.85      0.81      0.83       336\n",
      "          Society       0.81      0.90      0.85       416\n",
      "\n",
      "         accuracy                           0.85      1025\n",
      "        macro avg       0.86      0.84      0.85      1025\n",
      "     weighted avg       0.85      0.85      0.85      1025\n",
      "\n",
      "4.Mecab report: \n",
      "                    precision    recall  f1-score   support\n",
      "\n",
      "       IT/Science       0.92      0.81      0.86       273\n",
      "Lifestyle/Culture       0.85      0.79      0.82       336\n",
      "          Society       0.80      0.90      0.85       416\n",
      "\n",
      "         accuracy                           0.84      1025\n",
      "        macro avg       0.86      0.84      0.84      1025\n",
      "     weighted avg       0.85      0.84      0.84      1025\n",
      "\n",
      "5.Okt report: \n",
      "                    precision    recall  f1-score   support\n",
      "\n",
      "       IT/Science       0.92      0.81      0.86       273\n",
      "Lifestyle/Culture       0.85      0.80      0.82       336\n",
      "          Society       0.80      0.91      0.85       416\n",
      "\n",
      "         accuracy                           0.84      1025\n",
      "        macro avg       0.86      0.84      0.84      1025\n",
      "     weighted avg       0.85      0.84      0.84      1025\n",
      "\n"
     ]
    }
   ],
   "source": [
    "y_pred1 = clf.predict(tfidf_vectorizer(X_test1))\n",
    "y_pred2 = clf.predict(tfidf_vectorizer(X_test2))\n",
    "y_pred3 = clf.predict(tfidf_vectorizer(X_test3))\n",
    "y_pred4 = clf.predict(tfidf_vectorizer(X_test4))\n",
    "y_pred5 = clf.predict(tfidf_vectorizer(X_test5))\n",
    "\n",
    "print('1.Hannanum report: \\n', metrics.classification_report(y_test1, y_pred1))\n",
    "print('2.Kkma report: \\n', metrics.classification_report(y_test2, y_pred2))\n",
    "print('3.Komoran report: \\n', metrics.classification_report(y_test3, y_pred3))\n",
    "print('4.Mecab report: \\n', metrics.classification_report(y_test4, y_pred4))\n",
    "print('5.Okt report: \\n', metrics.classification_report(y_test5, y_pred5))"
   ]
  }
 ],
 "metadata": {
  "kernelspec": {
   "display_name": "aiffel",
   "language": "python",
   "name": "aiffel"
  },
  "language_info": {
   "codemirror_mode": {
    "name": "ipython",
    "version": 3
   },
   "file_extension": ".py",
   "mimetype": "text/x-python",
   "name": "python",
   "nbconvert_exporter": "python",
   "pygments_lexer": "ipython3",
   "version": "3.7.6"
  }
 },
 "nbformat": 4,
 "nbformat_minor": 4
}
