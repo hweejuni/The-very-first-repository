{
 "cells": [
  {
   "cell_type": "markdown",
   "metadata": {},
   "source": [
    "# News crawling and classification project   \n",
    "   \n",
    "## Content   \n",
    "\n",
    "&nbsp;&nbsp;&nbsp;**1.Aims and objectives**   \n",
    "&nbsp;&nbsp;&nbsp;**2.Literature review**   \n",
    "&nbsp;&nbsp;&nbsp;**3.Method**   \n",
    "&nbsp;&nbsp;&nbsp;**4.Result**   \n",
    "&nbsp;&nbsp;&nbsp;**5.Discussion and conclusion**   \n",
    "&nbsp;&nbsp;&nbsp;**6.Reference**"
   ]
  }
 ],
 "metadata": {
  "kernelspec": {
   "display_name": "Python 3",
   "language": "python",
   "name": "python3"
  },
  "language_info": {
   "codemirror_mode": {
    "name": "ipython",
    "version": 3
   },
   "file_extension": ".py",
   "mimetype": "text/x-python",
   "name": "python",
   "nbconvert_exporter": "python",
   "pygments_lexer": "ipython3",
   "version": "3.7.6"
  }
 },
 "nbformat": 4,
 "nbformat_minor": 4
}
