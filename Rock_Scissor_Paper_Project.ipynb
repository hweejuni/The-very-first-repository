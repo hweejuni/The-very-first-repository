{
 "cells": [
  {
   "cell_type": "markdown",
   "metadata": {},
   "source": [
    "# Rock-Paper-Scissor image classifier project"
   ]
  },
  {
   "cell_type": "markdown",
   "metadata": {},
   "source": [
    "## Content   \n",
    "&nbsp;&nbsp;&nbsp; **1. Aims and objectives**   \n",
    "&nbsp;&nbsp;&nbsp; **2. Method**   \n",
    "&nbsp;&nbsp;&nbsp; **3. Result**   \n",
    "&nbsp;&nbsp;&nbsp; **4. Discussion**   "
   ]
  },
  {
   "cell_type": "markdown",
   "metadata": {},
   "source": [
    "## 1. Aims and objectives\n",
    "    \n",
    "The focus of this project is on classifying three options of a hand game called 'Rock paper scissors', using tensorflow in python environment. The option consists of the three handsigns: Rock, paper, and scissors. In order to achieve the main objective, the project is divided into several parts:\n",
    "    \n",
    "   **Stage 1**: Build python environment for using tensorflow, image dataset, etc. The appropriate libraries and packages are required.\n",
    "   \n",
    "   **Stage 2**: Data acquisition. This stage includes taking pictures, and gathering images from other sources for both train and test data.   \n",
    "   \n",
    "   **Stage 3**: Design the model. The class and model chosen for the training produce two 2-dimensional convolutional layers and two dense layers.   \n",
    "   \n",
    "   **Stage 4**: Train the model using the train dataset.   \n",
    "   \n",
    "   **Stage 5**: Validate the result using the test dataset.   \n",
    "   "
   ]
  },
  {
   "cell_type": "markdown",
   "metadata": {},
   "source": [
    "## 2. Method\n",
    "\n",
    " ### Data acquisition\n",
    "    \n",
    "Some machine learning algorithm requires input dataset to predict the output. The training and testing data for this project will be image files and collected by 1. directly taking pictures and 2. downloading from other resources. First, visual or audible project resources such as image, video, or pose can be trained on the website provided by [Teachable Machine](https://teachablemachine.withgoogle.com/). 300 pictures had been taken in total for each handsign with the laptop webcam equipped.   \n",
    "   \n",
    "![1](./taking_pictures.png)\n",
    "&nbsp;&nbsp;&nbsp;&nbsp;&nbsp;&nbsp;&nbsp; *Figure 1: Taking pictures of rocks on Teachable Machine*   \n",
    "\n",
    "Figure 1 shows how the service took pictures rapidly.\n",
    "Other images were collected by colleagues and online datasets provided by tensorflow ([Tensorflow rock-paper-scissors datasets](https://www.tensorflow.org/datasets/catalog/rock_paper_scissors))\n",
    "\n",
    "The images obtained had been resized by 28x28 resolution.\n",
    "PIL library which contains image resize methods can be installed with:\n",
    "\n",
    "    !pip install pillow\n",
    "\n",
    "And the images for each handsign were resized."
   ]
  },
  {
   "cell_type": "code",
   "execution_count": null,
   "metadata": {},
   "outputs": [],
   "source": [
    "from PIL import Image\n",
    "import os, glob\n",
    "    \n",
    "#first, scissor images\n",
    "image_dir_path = os.getenv(\"HOME\") + \"/Desktop/rock_scissor_paper/Scissor\"\n",
    "images=glob.glob(image_dir_path + \"/*.jpg\")\n",
    "target_size=(28,28)\n",
    "for img in images:\n",
    "    old_img=Image.open(img)\n",
    "    new_img=old_img.resize(target_size,Image.ANTIALIAS)\n",
    "    new_img.save(img,'jpeg')\n",
    "    \n",
    "#rock images\n",
    "image_dir_path = os.getenv(\"HOME\") + \"/Desktop/rock_scissor_paper/Rock\"\n",
    "images=glob.glob(image_dir_path + \"/*.jpg\")\n",
    "target_size=(28,28)\n",
    "for img in images:\n",
    "    old_img=Image.open(img)\n",
    "    new_img=old_img.resize(target_size,Image.ANTIALIAS)\n",
    "    new_img.save(img,'jpeg')\n",
    "\n",
    "#last, paper images\n",
    "image_dir_path = os.getenv(\"HOME\") + \"/Desktop/rock_scissor_paper/Paper\"\n",
    "images=glob.glob(image_dir_path + \"/*.jpg\")\n",
    "target_size=(28,28)\n",
    "for img in images:\n",
    "    old_img=Image.open(img)\n",
    "    new_img=old_img.resize(target_size,Image.ANTIALIAS)\n",
    "    new_img.save(img,'jpeg')\n"
   ]
  },
  {
   "attachments": {},
   "cell_type": "markdown",
   "metadata": {},
   "source": [
    "![2](./rocks.png)\n",
    "&nbsp;&nbsp;&nbsp;&nbsp;&nbsp;&nbsp;&nbsp;&nbsp;&nbsp;&nbsp;&nbsp;&nbsp;&nbsp; *Figure 2: Resized rock images*\n",
    "\n",
    "### Retrieving datasets\n",
    "\n",
    "Each handsign was labelled with an integer: 0 for scissors, 1 for rocks, and 2 for papers.   "
   ]
  },
  {
   "cell_type": "code",
   "execution_count": null,
   "metadata": {},
   "outputs": [],
   "source": [
    "import numpy as np\n",
    "\n",
    "def load_data(img_path):\n",
    "    # Scissor : 0, Rock : 1, Paper : 2\n",
    "    number_of_data=4380   # Be carefull with the total number of data.\n",
    "    img_size=28\n",
    "    color=3\n",
    "    #Creating a matrix which involves image and label data.\n",
    "    imgs=np.zeros(number_of_data*img_size*img_size*color,dtype=np.int32).reshape(number_of_data,img_size,img_size,color)\n",
    "    labels=np.zeros(number_of_data,dtype=np.int32)\n",
    "\n",
    "    idx=0\n",
    "    for file in glob.iglob(img_path+'/Scissor/*.jpg'):\n",
    "        img = np.array(Image.open(file),dtype=np.int32)\n",
    "        imgs[idx,:,:,:]=img    # Copying the image matrix to data.\n",
    "        labels[idx]= 0  \n",
    "        idx=idx+1\n",
    "\n",
    "    for file in glob.iglob(img_path+'/Rock/*.jpg'):\n",
    "        img = np.array(Image.open(file),dtype=np.int32)\n",
    "        imgs[idx,:,:,:]=img    # Copying the image matrix to data.\n",
    "        labels[idx]=1  \n",
    "        idx=idx+1       \n",
    "    \n",
    "    for file in glob.iglob(img_path+'/Paper/*.jpg'):\n",
    "        img = np.array(Image.open(file),dtype=np.int32)\n",
    "        imgs[idx,:,:,:]=img    # Copying the image matrix to data.\n",
    "        labels[idx]=2   \n",
    "        idx=idx+1\n",
    "        \n",
    "    return imgs, labels\n",
    "\n",
    "image_dir_path = os.getenv(\"HOME\") + \"/Desktop/rock_scissor_paper\"\n",
    "(x_train, y_train)=load_data(image_dir_path)\n",
    "x_train_norm = x_train/255.0   # Normalise\n"
   ]
  },
  {
   "cell_type": "markdown",
   "metadata": {},
   "source": [
    "Just to check the code,"
   ]
  },
  {
   "cell_type": "code",
   "execution_count": null,
   "metadata": {},
   "outputs": [],
   "source": [
    "import matplotlib.pyplot as plt\n",
    "plt.imshow(x_train[122])\n",
    "print('Label: ', y_train[122]) "
   ]
  },
  {
   "attachments": {
    "image.png": {
     "image/png": "[encoded data removed]"
    }
   },
   "cell_type": "markdown",
   "metadata": {},
   "source": [
    "which outputs\n",
    "\n",
    "![image.png](attachment:image.png)\n",
    "&nbsp;&nbsp;&nbsp;&nbsp;&nbsp;&nbsp;&nbsp;&nbsp;&nbsp;&nbsp;&nbsp;&nbsp;&nbsp; *Figure 3: Output checking*\n",
    "\n"
   ]
  },
  {
   "cell_type": "markdown",
   "metadata": {},
   "source": [
    "### Build the model\n"
   ]
  },
  {
   "cell_type": "code",
   "execution_count": null,
   "metadata": {},
   "outputs": [],
   "source": [
    "import tensorflow as tf\n",
    "from tensorflow import keras\n",
    "import numpy as np\n",
    "\n",
    "\n",
    "n_channel_1=32\n",
    "n_channel_2=64\n",
    "n_dense=32\n",
    "n_train_epoch=10 # Four hyperparameters.\n",
    "\n",
    "model=keras.models.Sequential()\n",
    "model.add(keras.layers.Conv2D(n_channel_1, (3,3), activation='relu', input_shape=(28,28,3)))\n",
    "model.add(keras.layers.MaxPool2D(2,2))\n",
    "model.add(keras.layers.Conv2D(n_channel_2, (3,3), activation='relu'))\n",
    "model.add(keras.layers.MaxPooling2D((2,2)))\n",
    "model.add(keras.layers.Flatten())\n",
    "model.add(keras.layers.Dense(n_dense, activation='relu'))\n",
    "model.add(keras.layers.Dense(3, activation='softmax'))\n"
   ]
  },
  {
   "cell_type": "markdown",
   "metadata": {},
   "source": [
    "\n",
    "### Train the model"
   ]
  },
  {
   "cell_type": "code",
   "execution_count": null,
   "metadata": {},
   "outputs": [],
   "source": [
    "model.compile(optimizer='adam',\n",
    "             loss='sparse_categorical_crossentropy',\n",
    "             metrics=['accuracy'])\n",
    "\n",
    "model.fit(x_train_norm, y_train, epochs=10)"
   ]
  },
  {
   "cell_type": "markdown",
   "metadata": {},
   "source": [
    "### Test the model\n",
    "\n",
    "Test datasets could be obtained from other colleagues. 300 images in totol (100 each) had been tested. Test datasets were obtained in a similar way. "
   ]
  },
  {
   "cell_type": "code",
   "execution_count": null,
   "metadata": {},
   "outputs": [],
   "source": [
    "def load_data(img_path):\n",
    "    number_of_data=300   \n",
    "    img_size=28\n",
    "    color=3\n",
    "    imgs=np.zeros(number_of_data*img_size*img_size*color,dtype=np.int32).reshape(number_of_data,img_size,img_size,color)\n",
    "    labels=np.zeros(number_of_data,dtype=np.int32)\n",
    "\n",
    "    idx=0\n",
    "    for file in glob.iglob(img_path+'/Scissor/*.jpg'):\n",
    "        img = np.array(Image.open(file),dtype=np.int32)\n",
    "        imgs[idx,:,:,:]=img    \n",
    "        labels[idx]= 0  \n",
    "        idx=idx+1\n",
    "\n",
    "    for file in glob.iglob(img_path+'/Rock/*.jpg'):\n",
    "        img = np.array(Image.open(file),dtype=np.int32)\n",
    "        imgs[idx,:,:,:]=img    \n",
    "        labels[idx]=1   \n",
    "        idx=idx+1       \n",
    "    \n",
    "    for file in glob.iglob(img_path+'/Paper/*.jpg'):\n",
    "        img = np.array(Image.open(file),dtype=np.int32)\n",
    "        imgs[idx,:,:,:]=img   \n",
    "        labels[idx]=2   \n",
    "        idx=idx+1\n",
    "                \n",
    "    return imgs, labels\n",
    "        \n",
    "image_dir_path_1 = os.getenv(\"HOME\") + \"/Desktop/rock_scissor_paper_yesic\"\n",
    "(x_test, y_test)=load_data(image_dir_path_1)\n",
    "x_test_norm = x_test/255.0"
   ]
  },
  {
   "cell_type": "markdown",
   "metadata": {},
   "source": [
    "and then tested with model.evaluate():"
   ]
  },
  {
   "cell_type": "code",
   "execution_count": null,
   "metadata": {},
   "outputs": [],
   "source": [
    "test_loss, test_accuracy = model.evaluate(x_test_norm,y_test, verbose=2)\n",
    "print(\"test_loss: {} \".format(test_loss))\n",
    "print(\"test_accuracy: {}\".format(test_accuracy))"
   ]
  },
  {
   "attachments": {},
   "cell_type": "markdown",
   "metadata": {},
   "source": [
    "## 3. Result\n",
    "\n",
    "![3](./output3.png)\n",
    "&nbsp;&nbsp;&nbsp;&nbsp;&nbsp;&nbsp;&nbsp;&nbsp;&nbsp;&nbsp;&nbsp;&nbsp;&nbsp;&nbsp;&nbsp; *Figure 4: First output*   \n",
    "As can be seen in figure 4, the model with initial conditions produce poor accuracy. Accordingly, two measures were taken to increase the accuracy.   \n",
    "- 1360 more Training image was added to each, 4080 in total.\n",
    "- Hyperparameters had been adjusted.\n",
    "\n",
    "\n"
   ]
  },
  {
   "attachments": {},
   "cell_type": "markdown",
   "metadata": {},
   "source": [
    "![4](./output2.png)\n",
    "&nbsp;&nbsp;&nbsp;&nbsp;&nbsp;&nbsp;&nbsp;&nbsp;&nbsp;&nbsp;&nbsp;&nbsp;&nbsp;&nbsp;&nbsp; *Figure 5: Second output (# of images = 4360, n_channel_1 = 32, n_channel_2 = 64, n_dense = 32, and n_train_epoch = 10)*\n",
    "\n",
    "Figure 5 represents better accuracy with additional images and the same hyperparameters.\n",
    "\n",
    "![5](./output4.png)\n",
    "&nbsp;&nbsp;&nbsp;&nbsp;&nbsp;&nbsp;&nbsp;&nbsp;&nbsp;&nbsp;&nbsp;&nbsp;&nbsp;&nbsp;&nbsp; *Figure 6: Third output (# of images = 4360, n_channel_1 = 8, n_channel_2 = 16, n_dense = 32, and n_train_epoch = 20)*\n",
    "\n",
    "The accuracy greatly increased with adjusted hyperparameters."
   ]
  },
  {
   "cell_type": "markdown",
   "metadata": {},
   "source": [
    "## 4. Discussion and conclusion\n",
    "\n",
    "Overally, the input datasets and model designed could be considered poor by comparison. To achieve better accuracy, some measures are suggested:\n",
    "\n",
    "- Increasing the input data\n",
    "   \n",
    "- Adjusting the hyperparameters:   \n",
    "Four hyperparameters, n_channel_1, n_channel_2, n_dense, and n_train_epoch, had been employed for the convolutional model. Adjusting the value could increase the accuracy. \n",
    "   \n",
    "- High resolution image:   \n",
    "Comparing with MNIST handwritten digit classification project, the images in this project contain much more factors to consider e.g. illumination, surroundings, or other objects.   \n",
    "   \n",
    "- Using different model (the number of layers...):     \n",
    "Increasing the number of layers is also an acceptable idea to increase the accuracy."
   ]
  }
 ],
 "metadata": {
  "kernelspec": {
   "display_name": "Hwijun",
   "language": "python",
   "name": "hwijun"
  },
  "language_info": {
   "codemirror_mode": {
    "name": "ipython",
    "version": 3
   },
   "file_extension": ".py",
   "mimetype": "text/x-python",
   "name": "python",
   "nbconvert_exporter": "python",
   "pygments_lexer": "ipython3",
   "version": "3.7.7"
  }
 },
 "nbformat": 4,
 "nbformat_minor": 4
}
